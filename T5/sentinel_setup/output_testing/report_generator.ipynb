{
 "cells": [
  {
   "attachments": {},
   "cell_type": "markdown",
   "metadata": {},
   "source": [
    "### Code"
   ]
  },
  {
   "attachments": {},
   "cell_type": "markdown",
   "metadata": {},
   "source": [
    "#### Imports"
   ]
  },
  {
   "cell_type": "code",
   "execution_count": 12,
   "metadata": {},
   "outputs": [],
   "source": [
    "import pandas as pd\n",
    "from sklearn.metrics import classification_report"
   ]
  },
  {
   "attachments": {},
   "cell_type": "markdown",
   "metadata": {},
   "source": [
    "#### Functions"
   ]
  },
  {
   "cell_type": "code",
   "execution_count": 13,
   "metadata": {},
   "outputs": [],
   "source": [
    "def error_fixer(df):\n",
    "    '''Fixes situations where there are too many tokens (halucinations) or missing tokens (errors).'''\n",
    "    pred = []\n",
    "    gold = []\n",
    "    errors = []\n",
    "    for idx, row in df.iterrows():\n",
    "        if len(row.semtag) < len(row.gen_semtag):\n",
    "            pred += [i for i in row.gen_semtag[:len(row.semtag)]]\n",
    "            gold += [i for i in row.semtag]\n",
    "            errors.append([idx, 'longer', row.semtag, row.gen_semtag])\n",
    "        elif len(row.semtag) > len(row.gen_semtag):\n",
    "            errors.append([idx, 'shorter', row.semtag, row.gen_semtag])\n",
    "        else:\n",
    "            pred += [i for i in row.gen_semtag]\n",
    "            gold += [i for i in row.semtag]\n",
    "            \n",
    "    return gold, pred"
   ]
  },
  {
   "cell_type": "code",
   "execution_count": 14,
   "metadata": {},
   "outputs": [],
   "source": [
    "def classification_printer(in_file):\n",
    "    '''Prints the classification report for a given file.'''\n",
    "    df = pd.read_json(in_file)\n",
    "\n",
    "    gold, pred = error_fixer(df)\n",
    "\n",
    "    print(classification_report(gold, pred, zero_division=0))"
   ]
  },
  {
   "attachments": {},
   "cell_type": "markdown",
   "metadata": {},
   "source": [
    "### Classification"
   ]
  },
  {
   "cell_type": "code",
   "execution_count": 22,
   "metadata": {},
   "outputs": [
    {
     "name": "stdout",
     "output_type": "stream",
     "text": [
      "Sentinel - t5-base\n",
      "\n",
      "              precision    recall  f1-score   support\n",
      "\n",
      "         ALT       0.91      0.72      0.81        29\n",
      "         AND       0.92      0.62      0.74        53\n",
      "         APX       1.00      0.62      0.76        13\n",
      "         ART       0.31      1.00      0.48         5\n",
      "         BOT       1.00      1.00      1.00         1\n",
      "         BUT       1.00      1.00      1.00         7\n",
      "         CLO       0.94      0.79      0.86        19\n",
      "         COL       0.90      0.75      0.82        12\n",
      "         CON       0.98      0.75      0.85       871\n",
      "         COO       0.92      0.75      0.83        16\n",
      "         CTC       1.00      0.50      0.67         2\n",
      "         DEF       0.93      0.69      0.79       797\n",
      "         DEG       0.80      0.40      0.53        30\n",
      "         DIS       0.86      0.76      0.81       476\n",
      "         DOM       1.00      0.60      0.75         5\n",
      "         DOW       1.00      1.00      1.00         3\n",
      "         DST       0.82      0.85      0.84        27\n",
      "         EFS       0.50      0.67      0.57         3\n",
      "         EMP       0.97      0.97      0.97        37\n",
      "         ENS       0.98      0.53      0.69       222\n",
      "         EPS       0.98      0.80      0.88       361\n",
      "         EQU       0.56      0.50      0.53        18\n",
      "         EXG       0.97      0.95      0.96       107\n",
      "         EXS       0.80      0.69      0.74       196\n",
      "         EXT       0.80      0.67      0.73        36\n",
      "         FUT       1.00      0.68      0.81        31\n",
      "         GEO       1.00      0.67      0.80        15\n",
      "         GPE       0.94      0.86      0.90        58\n",
      "         GPO       0.90      0.53      0.67        17\n",
      "         GRE       1.00      1.00      1.00         1\n",
      "         GRP       1.00      0.73      0.84        11\n",
      "         HAP       0.50      1.00      0.67         1\n",
      "         HAS       0.99      0.78      0.87       174\n",
      "         INT       0.96      0.75      0.84        36\n",
      "         IST       0.81      0.79      0.80       242\n",
      "         ITJ       1.00      1.00      1.00         1\n",
      "         LES       0.00      0.00      0.00         1\n",
      "         LIT       0.15      0.93      0.26        15\n",
      "         MOR       0.89      0.73      0.80        11\n",
      "         MOY       1.00      1.00      1.00         5\n",
      "         NEC       1.00      0.60      0.75        10\n",
      "         NIL       0.50      0.99      0.67      1069\n",
      "         NOT       0.99      0.88      0.93        94\n",
      "         NOW       0.89      0.94      0.92       358\n",
      "         NTH       0.00      0.00      0.00         4\n",
      "         ORD       1.00      0.75      0.86         4\n",
      "         ORG       0.90      0.56      0.69        16\n",
      "         PER       0.99      0.82      0.90       335\n",
      "         PFT       0.89      1.00      0.94         8\n",
      "         POS       1.00      0.36      0.53        14\n",
      "         PRG       1.00      0.33      0.50         3\n",
      "         PRO       0.98      0.94      0.96       537\n",
      "         PRX       1.00      0.98      0.99        51\n",
      "         PST       0.97      0.83      0.90       136\n",
      "         QUC       0.98      0.56      0.71        99\n",
      "         QUE       0.98      0.99      0.98       152\n",
      "         QUV       1.00      0.76      0.86        29\n",
      "         REF       0.75      0.43      0.55         7\n",
      "         REL       0.96      0.67      0.79       475\n",
      "         ROL       0.96      0.93      0.95       132\n",
      "         SCO       0.75      0.50      0.60         6\n",
      "         SUB       1.00      0.60      0.75        10\n",
      "         TOP       1.00      0.38      0.55         8\n",
      "         UOM       0.94      0.91      0.93        56\n",
      "         YOC       0.94      1.00      0.97        17\n",
      "\n",
      "    accuracy                           0.81      7595\n",
      "   macro avg       0.87      0.73      0.77      7595\n",
      "weighted avg       0.88      0.81      0.82      7595\n",
      "\n",
      "Sentinel - t5-base\n",
      "\n"
     ]
    }
   ],
   "source": [
    "variant = 'Sentinel'\n",
    "model = 't5-base'\n",
    "output_json = './2023-02-02_18-55-11-t5-base-test_generated.json'\n",
    "\n",
    "print(f'{variant} - {model}' + '\\n')\n",
    "classification_printer(output_json)\n",
    "print(f'{variant} - {model}' + '\\n')"
   ]
  },
  {
   "cell_type": "code",
   "execution_count": 23,
   "metadata": {},
   "outputs": [
    {
     "name": "stdout",
     "output_type": "stream",
     "text": [
      "Sentinel - t5-small\n",
      "\n",
      "              precision    recall  f1-score   support\n",
      "\n",
      "         ALT       0.75      0.93      0.83        29\n",
      "         AND       0.80      0.74      0.76        53\n",
      "         APX       1.00      1.00      1.00        13\n",
      "         ART       0.27      0.80      0.40         5\n",
      "         BOT       1.00      1.00      1.00         1\n",
      "         BUT       0.86      0.86      0.86         7\n",
      "         CLO       0.79      1.00      0.88        19\n",
      "         COL       1.00      1.00      1.00        12\n",
      "         CON       0.93      0.98      0.95       871\n",
      "         COO       0.86      0.38      0.52        16\n",
      "         CTC       1.00      0.50      0.67         2\n",
      "         DEF       0.92      0.97      0.94       797\n",
      "         DEG       0.95      0.63      0.76        30\n",
      "         DIS       0.92      0.84      0.88       476\n",
      "         DOM       0.83      1.00      0.91         5\n",
      "         DOW       1.00      1.00      1.00         3\n",
      "         DST       0.77      1.00      0.87        27\n",
      "         EFS       0.29      0.67      0.40         3\n",
      "         EMP       0.62      0.27      0.38        37\n",
      "         ENS       0.91      0.73      0.81       222\n",
      "         EPS       0.95      0.44      0.60       361\n",
      "         EQU       0.50      0.50      0.50        18\n",
      "         EXG       0.92      1.00      0.96       107\n",
      "         EXS       0.51      0.80      0.62       196\n",
      "         EXT       0.50      0.64      0.56        36\n",
      "         FUT       1.00      0.90      0.95        31\n",
      "         GEO       0.80      0.80      0.80        15\n",
      "         GPE       0.96      0.83      0.89        58\n",
      "         GPO       0.82      0.82      0.82        17\n",
      "         GRE       0.00      0.00      0.00         1\n",
      "         GRP       0.83      0.91      0.87        11\n",
      "         HAP       1.00      1.00      1.00         1\n",
      "         HAS       0.99      0.79      0.88       174\n",
      "         INT       1.00      0.42      0.59        36\n",
      "         IST       0.62      0.95      0.75       242\n",
      "          IT       0.00      0.00      0.00         0\n",
      "         ITJ       0.20      1.00      0.33         1\n",
      "         LES       1.00      1.00      1.00         1\n",
      "         LIT       0.48      0.93      0.64        15\n",
      "         MOR       1.00      0.91      0.95        11\n",
      "         MOY       1.00      1.00      1.00         5\n",
      "         NEC       1.00      0.60      0.75        10\n",
      "         NIL       0.94      0.98      0.96      1069\n",
      "         NOT       0.99      1.00      0.99        94\n",
      "         NOW       0.96      0.94      0.95       358\n",
      "         NTH       0.00      0.00      0.00         4\n",
      "         ORD       0.67      0.50      0.57         4\n",
      "         ORG       0.82      0.56      0.67        16\n",
      "         PER       0.99      0.96      0.98       335\n",
      "         PFT       1.00      0.88      0.93         8\n",
      "         POS       1.00      0.93      0.96        14\n",
      "         PRG       0.00      0.00      0.00         3\n",
      "         PRO       0.93      0.99      0.96       537\n",
      "         PRX       1.00      1.00      1.00        51\n",
      "         PST       1.00      0.92      0.96       136\n",
      "         QUC       0.97      0.92      0.94        99\n",
      "         QUE       0.99      1.00      0.99       152\n",
      "         QUV       1.00      0.66      0.79        29\n",
      "         REF       0.88      1.00      0.93         7\n",
      "         REL       0.97      0.91      0.94       475\n",
      "         ROL       0.92      0.98      0.95       132\n",
      "         SCO       0.46      1.00      0.63         6\n",
      "         SUB       0.86      0.60      0.71        10\n",
      "         TOP       1.00      0.88      0.93         8\n",
      "         UOM       0.95      0.98      0.96        56\n",
      "         YOC       1.00      0.94      0.97        17\n",
      "\n",
      "    accuracy                           0.90      7595\n",
      "   macro avg       0.80      0.79      0.77      7595\n",
      "weighted avg       0.91      0.90      0.90      7595\n",
      "\n",
      "Sentinel - t5-small\n",
      "\n"
     ]
    }
   ],
   "source": [
    "variant = 'Sentinel'\n",
    "model = 't5-small'\n",
    "output_json = './2023-02-02_19-10-41-t5-small-test_generated.json'\n",
    "\n",
    "print(f'{variant} - {model}' + '\\n')\n",
    "classification_printer(output_json)\n",
    "print(f'{variant} - {model}' + '\\n')"
   ]
  },
  {
   "cell_type": "code",
   "execution_count": null,
   "metadata": {},
   "outputs": [],
   "source": [
    "variant = ''\n",
    "model = ''\n",
    "output_json = './'\n",
    "\n",
    "print(f'{variant} - {model}' + '\\n')\n",
    "classification_printer(output_json)\n",
    "print(f'{variant} - {model}' + '\\n')"
   ]
  }
 ],
 "metadata": {
  "kernelspec": {
   "display_name": "lfd",
   "language": "python",
   "name": "python3"
  },
  "language_info": {
   "codemirror_mode": {
    "name": "ipython",
    "version": 3
   },
   "file_extension": ".py",
   "mimetype": "text/x-python",
   "name": "python",
   "nbconvert_exporter": "python",
   "pygments_lexer": "ipython3",
   "version": "3.10.4"
  },
  "orig_nbformat": 4,
  "vscode": {
   "interpreter": {
    "hash": "86d0237a3a54a747ea5eeadf5a7aab3e7ee246c76033eca4ace7d99a07ef554b"
   }
  }
 },
 "nbformat": 4,
 "nbformat_minor": 2
}
