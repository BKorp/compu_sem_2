{
 "cells": [
  {
   "cell_type": "code",
   "execution_count": 1,
   "metadata": {
    "id": "Hm0axyABXrWd"
   },
   "outputs": [],
   "source": [
    "import pandas as pd\n",
    "import numpy as np\n",
    "from sklearn.model_selection import train_test_split\n",
    "from sklearn.metrics import classification_report, confusion_matrix\n",
    "from sklearn import svm\n",
    "from sklearn.model_selection import GridSearchCV\n",
    "from sklearn.feature_extraction.text import CountVectorizer, TfidfVectorizer\n",
    "from sklearn.pipeline import Pipeline, FeatureUnion"
   ]
  },
  {
   "cell_type": "raw",
   "metadata": {
    "id": "3ynOkESkXwOX"
   },
   "source": [
    "def train_svm(X_train, Y_train, X_test):\n",
    "    '''Training a svm model, and returning the model and vectorized test data'''\n",
    "    vec = TfidfVectorizer()\n",
    "    vec.fit(X_train, X_test)\n",
    "\n",
    "    x_train = vec.transform(X_train)\n",
    "    x_test = vec.transform(X_test)\n",
    "\n",
    "    SVMlinear = svm.SVC(kernel='linear', C=10)\n",
    "    SVMlinear.fit(x_train, Y_train)\n",
    "    return SVMlinear, x_test"
   ]
  },
  {
   "cell_type": "code",
   "execution_count": 3,
   "metadata": {
    "id": "ZHWlVG32brZ3"
   },
   "outputs": [],
   "source": [
    "def evaluate_svm(model, X_test, Y_test):\n",
    "    '''Testing a trained SVM model with the test set and labels'''\n",
    "    pred = model.predict(X_test)\n",
    "    class_report = classification_report(Y_test, pred, digits=4, zero_division=True)\n",
    "    return class_report"
   ]
  },
  {
   "cell_type": "code",
   "execution_count": 4,
   "metadata": {
    "id": "v_EwVPFUX65A"
   },
   "outputs": [],
   "source": [
    "'''Reading in data as a pandas dataframe'''\n",
    "data = pd.read_csv('sem-pmb_4_0_0-gold.csv')"
   ]
  },
  {
   "cell_type": "code",
   "execution_count": 5,
   "metadata": {
    "id": "PhKbZWIcYI5o"
   },
   "outputs": [],
   "source": [
    "'''Splitting data into 80% train and 20% test data'''\n",
    "X_train, X_test, Y_train, Y_test = train_test_split(data['token'], data['semtag'], test_size=0.20, random_state=1234)"
   ]
  },
  {
   "cell_type": "code",
   "execution_count": 6,
   "metadata": {
    "id": "3-aNMSQEX69o"
   },
   "outputs": [],
   "source": [
    "'''Training model'''\n",
    "SVM = train_svm(X_train, Y_train, X_test)"
   ]
  },
  {
   "cell_type": "code",
   "execution_count": 7,
   "metadata": {
    "colab": {
     "base_uri": "https://localhost:8080/"
    },
    "id": "N8hKdJI9d4Ru",
    "outputId": "0fbcc84c-e880-45e0-b84d-8beb01d26775",
    "scrolled": false
   },
   "outputs": [
    {
     "name": "stdout",
     "output_type": "stream",
     "text": [
      "              precision    recall  f1-score   support\n",
      "\n",
      "         ALT     0.8750    0.9825    0.9256        57\n",
      "         AND     0.9706    0.5690    0.7174       116\n",
      "         APX     0.7273    0.4444    0.5517        18\n",
      "         ART     0.5000    0.1765    0.2609        17\n",
      "         BOT     1.0000    1.0000    1.0000         2\n",
      "         BUT     0.9444    0.8500    0.8947        20\n",
      "         CLO     0.8400    0.6364    0.7241        33\n",
      "         COL     0.8788    0.9062    0.8923        32\n",
      "         CON     0.9414    0.8244    0.8790      1794\n",
      "         COO     1.0000    0.0000    0.0000        28\n",
      "         CTC     1.0000    0.7500    0.8571         4\n",
      "         DEF     0.9943    0.4302    0.6005      1611\n",
      "         DEG     0.7119    0.7778    0.7434        54\n",
      "         DIS     0.9806    0.1036    0.1874       975\n",
      "         DOM     1.0000    0.1111    0.2000         9\n",
      "         DOW     1.0000    1.0000    1.0000         2\n",
      "         DST     0.5882    1.0000    0.7407        40\n",
      "         EFS     0.4000    0.2857    0.3333         7\n",
      "         EMP     0.9231    0.1905    0.3158        63\n",
      "         ENS     0.8265    0.3549    0.4966       510\n",
      "         EPS     0.8571    0.8182    0.8372       770\n",
      "         EQU     0.3333    0.1000    0.1538        20\n",
      "         EXG     0.9378    0.8303    0.8808       218\n",
      "         EXS     0.7188    0.6148    0.6627       366\n",
      "         EXT     0.5556    0.0893    0.1538        56\n",
      "         FUT     0.9804    0.9091    0.9434        55\n",
      "         GEO     0.9091    0.5882    0.7143        17\n",
      "         GPE     0.9504    0.7055    0.8099       163\n",
      "         GPO     0.5909    0.3514    0.4407        37\n",
      "         GRP     0.3393    0.9048    0.4935        21\n",
      "         HAP     0.6667    0.4000    0.5000         5\n",
      "         HAS     0.9212    0.8306    0.8736       366\n",
      "         IMP     1.0000    0.1250    0.2222         8\n",
      "         INT     0.8974    0.7143    0.7955        49\n",
      "         IST     0.8734    0.6640    0.7545       509\n",
      "         ITJ     0.5000    1.0000    0.6667         1\n",
      "         LES     1.0000    1.0000    1.0000         1\n",
      "         LIT     0.5000    0.1290    0.2051        31\n",
      "         MOR     0.9500    0.9268    0.9383        41\n",
      "         MOY     0.8947    1.0000    0.9444        17\n",
      "         NEC     1.0000    0.6000    0.7500        10\n",
      "         NIL     0.3693    0.9658    0.5343      2135\n",
      "         NOT     0.9802    0.5625    0.7148       176\n",
      "         NOW     0.7105    0.8113    0.7576       726\n",
      "         NTH     0.7500    0.7500    0.7500         8\n",
      "         ORD     1.0000    0.5556    0.7143         9\n",
      "         ORG     0.8667    0.3171    0.4643        41\n",
      "         PER     0.9709    0.8593    0.9117       661\n",
      "         PFT     0.5625    1.0000    0.7200         9\n",
      "         POS     1.0000    0.9600    0.9796        25\n",
      "         PRG     1.0000    1.0000    1.0000         5\n",
      "         PRO     0.9757    0.6151    0.7546      1112\n",
      "         PRX     1.0000    1.0000    1.0000       112\n",
      "         PST     0.8380    0.9794    0.9032       243\n",
      "         QUC     0.9290    0.8441    0.8845       186\n",
      "         QUE     0.8537    0.4636    0.6009       302\n",
      "         QUV     1.0000    0.8814    0.9369        59\n",
      "         REF     0.7857    0.9167    0.8462        12\n",
      "         REL     0.9038    0.9764    0.9387      1058\n",
      "         ROL     0.9476    0.8160    0.8769       288\n",
      "         SCO     1.0000    0.0000    0.0000         8\n",
      "         SUB     0.8095    0.5152    0.6296        33\n",
      "         TOP     1.0000    0.8889    0.9412        18\n",
      "         UOM     1.0000    0.7857    0.8800        98\n",
      "         YOC     1.0000    0.5526    0.7119        38\n",
      "\n",
      "    accuracy                         0.7044     15515\n",
      "   macro avg     0.8420    0.6571    0.6848     15515\n",
      "weighted avg     0.8349    0.7044    0.7024     15515\n",
      "\n"
     ]
    }
   ],
   "source": [
    "'''Testing model'''\n",
    "print(evaluate_svm(SVM[0], SVM[1], Y_test))"
   ]
  },
  {
   "cell_type": "markdown",
   "metadata": {
    "id": "LmDHmkp6fv_z"
   },
   "source": [
    "#Gridsearch for finding best parameters"
   ]
  },
  {
   "cell_type": "code",
   "execution_count": 20,
   "metadata": {
    "id": "evC0tozWfre-"
   },
   "outputs": [],
   "source": [
    "def gridsearch(Xtrain, Ytrain, Xdev, Ydev):\n",
    "    \"\"\"Find the best parameters for each feature,\n",
    "    and print its classification report\"\"\"\n",
    "    model = svm.SVC(kernel='linear')\n",
    "\n",
    "    \"\"\"Word features\"\"\"\n",
    "    vec = TfidfVectorizer(analyzer='word')    \n",
    "    parameters = {'C':[1, 10]}\n",
    "    kernel = ['linear', 'rbf', 'poly', 'sigmoid']\n",
    "\n",
    "    print(\"Running grid search....\")\n",
    "    run = 0\n",
    "    for k in kernel:\n",
    "        run +=1\n",
    "        model = svm.SVC(kernel=k)\n",
    "        vec.fit(Xtrain, Xdev)\n",
    "        x_train = vec.transform(Xtrain)\n",
    "        x_dev = vec.transform(Xdev)\n",
    "        model.fit(x_train, Ytrain)\n",
    "        \n",
    "        grid_svm = GridSearchCV(model,\n",
    "                                param_grid=parameters,\n",
    "                                scoring='f1_macro',\n",
    "                                n_jobs=-1)\n",
    "\n",
    "        grid_svm.fit(x_train, Ytrain)\n",
    "        pred = grid_svm.predict(x_dev)\n",
    "        print(\"Run {}\\{}\".format(run, len(kernel)))\n",
    "        print(\"Best model ran with kernel: {} and parameter: {}\\n\".format(k, grid_svm.best_params_))\n",
    "        print(classification_report(Ydev, pred, digits=4), '\\n')"
   ]
  },
  {
   "cell_type": "code",
   "execution_count": null,
   "metadata": {},
   "outputs": [],
   "source": [
    "gridsearch(X_train, Y_train, X_test, Y_test)"
   ]
  }
 ],
 "metadata": {
  "colab": {
   "provenance": []
  },
  "gpuClass": "standard",
  "kernelspec": {
   "display_name": "Python 3 (ipykernel)",
   "language": "python",
   "name": "python3"
  },
  "language_info": {
   "codemirror_mode": {
    "name": "ipython",
    "version": 3
   },
   "file_extension": ".py",
   "mimetype": "text/x-python",
   "name": "python",
   "nbconvert_exporter": "python",
   "pygments_lexer": "ipython3",
   "version": "3.10.7"
  }
 },
 "nbformat": 4,
 "nbformat_minor": 1
}
