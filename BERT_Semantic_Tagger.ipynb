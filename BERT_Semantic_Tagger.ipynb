{
  "cells": [
    {
      "cell_type": "code",
      "source": [
        "!pip install transformers\n",
        "!pip install tensorflow==2.11"
      ],
      "metadata": {
        "id": "9WSH45lGs-wu"
      },
      "execution_count": null,
      "outputs": []
    },
    {
      "cell_type": "code",
      "execution_count": 2,
      "metadata": {
        "id": "O5DfHxNm2kRw"
      },
      "outputs": [],
      "source": [
        "from transformers import AutoTokenizer\n",
        "import pandas as pd\n",
        "from sklearn import preprocessing\n",
        "from transformers import TFAutoModelForTokenClassification\n",
        "from tensorflow.keras.losses import SparseCategoricalCrossentropy\n",
        "from tensorflow.keras.preprocessing.sequence import pad_sequences\n",
        "from tensorflow.keras.optimizers import Adam\n",
        "from transformers import logging as hf_logging\n",
        "import tensorflow as tf\n",
        "from sklearn.model_selection import train_test_split\n",
        "from sklearn.metrics import classification_report\n",
        "import numpy as np\n",
        "import warnings\n",
        "import os\n",
        "'''Mute warnings from TensorFlow'''\n",
        "hf_logging.set_verbosity_error()\n",
        "warnings.filterwarnings(\"ignore\")\n",
        "os.environ[\"TF_CPP_MIN_LOG_LEVEL\"] = \"2\"\n",
        "tf.random.set_seed(1234)"
      ]
    },
    {
      "cell_type": "code",
      "execution_count": 3,
      "metadata": {
        "colab": {
          "base_uri": "https://localhost:8080/"
        },
        "id": "d2j1N3VNBnGd",
        "outputId": "37e83f34-86d9-4444-a916-c71eec41cc2f"
      },
      "outputs": [
        {
          "output_type": "stream",
          "name": "stdout",
          "text": [
            "2.11.0\n"
          ]
        }
      ],
      "source": [
        "print(tf.__version__)"
      ]
    },
    {
      "cell_type": "code",
      "execution_count": 4,
      "metadata": {
        "id": "doracI9lxoHa"
      },
      "outputs": [],
      "source": [
        "def label_encoding(labels, data):\n",
        "    '''Encode the labels to numerical integers, and return the encoded labels,\n",
        "    and label names'''\n",
        "    le = preprocessing.LabelEncoder()\n",
        "    le.fit(labels)\n",
        "    label_n = list(le.classes_)\n",
        "    encoded_labels = []\n",
        "    for sent in data['semtag']:\n",
        "        enc = le.transform(sent)\n",
        "        encoded_labels.append(enc)\n",
        "    return encoded_labels, label_n"
      ]
    },
    {
      "cell_type": "code",
      "execution_count": 5,
      "metadata": {
        "id": "n8cK6gf1s4Wj"
      },
      "outputs": [],
      "source": [
        "def align_text_with_label_first(word_pos, labels):\n",
        "    '''Align the labels with the tokenized word ids, if a word is splitted into multiple subwords, \n",
        "    align the first subword token with the label, returns the algined labels as a list'''\n",
        "    adj_labels = []\n",
        "    adj_labels.append(-100)\n",
        "    for x, y in zip(word_pos[1:-1], word_pos[:-1]):\n",
        "        if x == y:\n",
        "            adj_labels.append(-100)\n",
        "        elif x != y:\n",
        "            adj_labels.append(labels[x])\n",
        "    adj_labels.append(-100)\n",
        "    return adj_labels"
      ]
    },
    {
      "cell_type": "code",
      "execution_count": 6,
      "metadata": {
        "id": "Ji5-Z8nmqCnX"
      },
      "outputs": [],
      "source": [
        "def align_text_with_label_last(word_pos, labels):\n",
        "    '''Align the labels with the tokenized word ids, if a word is splitted into multiple subwords, \n",
        "    align the last subword token with the label, returns the algined labels as a list (default last)'''\n",
        "    adj_labels = []\n",
        "    adj_labels.append(-100)\n",
        "    for word_id, next1 in zip(word_pos[1:-1], word_pos[2:]):\n",
        "        if word_id == next1:\n",
        "            adj_labels.append(-100)\n",
        "        elif word_id != next1:\n",
        "            adj_labels.append(labels[word_id])\n",
        "            \n",
        "    adj_labels.append(-100)\n",
        "    return adj_labels"
      ]
    },
    {
      "cell_type": "code",
      "execution_count": 7,
      "metadata": {
        "id": "2XWPi4Mvp6uq"
      },
      "outputs": [],
      "source": [
        "def tokenize_and_align(lm, text, enc_labels):\n",
        "    '''Tokenize the text and align the labels (default align_text_with_label_first), \n",
        "    returns a tokenized encoded batch, containing the values: \n",
        "    1. input_ids, 2. token_type_ids, 3. attention_mask, 4. labels'''\n",
        "    tk = AutoTokenizer.from_pretrained(lm, add_prefix_space=True)\n",
        "    tk_data = tk(text, truncation=True, is_split_into_words=True)\n",
        "\n",
        "    aligned_labels = []\n",
        "    for n, label in enumerate(enc_labels):\n",
        "        aligned_labels.append(align_text_with_label_first(tk_data.word_ids(n), label))\n",
        "    \n",
        "    tk_data['labels'] = aligned_labels\n",
        "    return tk_data"
      ]
    },
    {
      "cell_type": "code",
      "execution_count": 8,
      "metadata": {
        "id": "A7EupMo7J0oQ"
      },
      "outputs": [],
      "source": [
        "def train_model(lm, lr, bs, ep, sl, label_names, train_tok, dev_tok):\n",
        "    '''Trains a pretrained language model with the given (hyper)parameters, returns the trained model'''\n",
        "    print(\"Training model: {}\\nWith parameters:\\nLearn rate: {}, Batch size: {}\\nEpochs: {}, Sequence length: {}\"\n",
        "          .format(lm, lr, bs, ep, sl))\n",
        "\n",
        "    X_train, Y_train = padding_convertTF(train_tok, sl)\n",
        "    X_dev, Y_dev = padding_convertTF(dev_tok, sl)\n",
        "\n",
        "    train_sample_weights = sample_weights(Y_train)\n",
        "    dev_sample_weights = sample_weights(Y_dev)\n",
        "\n",
        "    model = TFAutoModelForTokenClassification.from_pretrained(lm, num_labels=len(label_names))\n",
        "    early_stopper = tf.keras.callbacks.EarlyStopping(monitor='val_loss', patience=3, restore_best_weights=True,\n",
        "                                                             mode=\"min\")\n",
        "    optim = Adam(learning_rate=lr)\n",
        "    loss = SparseCategoricalCrossentropy(from_logits=True, ignore_class=-100)\n",
        "    model.compile(optimizer=optim, loss=loss, weighted_metrics=['accuracy'])\n",
        "    model.fit(X_train, Y_train, sample_weight=train_sample_weights, validation_data=[X_dev, Y_dev, dev_sample_weights],\n",
        "              epochs=ep, batch_size=bs, callbacks=[early_stopper])\n",
        "    return model"
      ]
    },
    {
      "cell_type": "code",
      "execution_count": 9,
      "metadata": {
        "id": "L9b_E7lhHG7P"
      },
      "outputs": [],
      "source": [
        "def evaluate_model(model, lm, lr, bs, ep, sl, label_names, test_tok):\n",
        "    '''Tests a pretrained language model, with the given model, test set, and (hyper)parameters,\n",
        "    returns the classification report for the given test set'''\n",
        "    print(\"Testing model: {}\\nWith parameters:\\nLearn rate: {}, Batch size: {}\\nEpochs: {}, Sequence length: {}\"\n",
        "          .format(lm, lr, bs, ep, sl))\n",
        "\n",
        "    X_test, Y_test = padding_convertTF(test_tok, sl)\n",
        "\n",
        "    logits = model.predict(X_test)['logits']\n",
        "    predictions = np.argmax(logits, axis=-1)\n",
        "\n",
        "    Y_gold = []\n",
        "    Y_pred = []\n",
        "    for label, pred in zip(Y_test, predictions):\n",
        "        for l, p in zip(label, pred):\n",
        "            if l == -100:\n",
        "                continue\n",
        "            Y_gold.append(label_names[l])\n",
        "            Y_pred.append(label_names[p])\n",
        "\n",
        "    return classification_report(Y_gold, Y_pred, digits=4, zero_division=True)"
      ]
    },
    {
      "cell_type": "code",
      "execution_count": 10,
      "metadata": {
        "id": "kaKfO-mCdTt1"
      },
      "outputs": [],
      "source": [
        "def sample_weights(Y_labels):\n",
        "    '''Takes as input the Y- train/dev set, and returns the sample weights as a 2d numpy array,\n",
        "    used as input for the model.fit() sample_weight argument'''\n",
        "    weights = []\n",
        "    x = []\n",
        "    for n in Y_labels:\n",
        "        for n1 in n:\n",
        "            if n1 == -100:\n",
        "                x.append(0)\n",
        "            else:\n",
        "                x.append(1)\n",
        "        weights.append(x)\n",
        "        x = []\n",
        "    return np.array(weights)"
      ]
    },
    {
      "cell_type": "code",
      "source": [
        "def evaluate_custom(model, sl, label_names, test_tok):\n",
        "    '''Returns a nested list for both the gold labels and predictions, \n",
        "    where each list consist of the labels for each sentence'''\n",
        "    X_test, Y_test = padding_convertTF(test_tok, sl)\n",
        "    logits = model.predict(X_test)['logits']\n",
        "    predictions = np.argmax(logits, axis=-1)\n",
        "\n",
        "    Y_gold = []\n",
        "    Y_pred = []\n",
        "    Y_g = []\n",
        "    Y_p = []\n",
        "    for label, pred in zip(Y_test, predictions):\n",
        "        for l, p in zip(label, pred):\n",
        "            if l == -100:\n",
        "                continue\n",
        "            Y_g.append(label_names[l])\n",
        "            Y_p.append(label_names[p])\n",
        "        Y_gold.append(Y_g)\n",
        "        Y_pred.append(Y_p)\n",
        "        Y_g = []\n",
        "        Y_p = []                    \n",
        "    return Y_gold, Y_pred"
      ],
      "metadata": {
        "id": "UU5USkCzNu51"
      },
      "execution_count": 11,
      "outputs": []
    },
    {
      "cell_type": "code",
      "execution_count": 12,
      "metadata": {
        "id": "LHXl7JskCK2j"
      },
      "outputs": [],
      "source": [
        "def padding_convertTF(tok_output, sl):\n",
        "    '''Pads and converts the input_ids, token_type_ids, attention_mask to tensors,\n",
        "    also pads the '''\n",
        "    if len(tok_output) == 4:\n",
        "        input_ids = []\n",
        "        token_type_ids = []\n",
        "        attention_mask = []\n",
        "        labels = []\n",
        "        for n1, n2, n3, n4 in zip(tok_output['input_ids'], tok_output['token_type_ids'], \n",
        "                              tok_output['attention_mask'], tok_output['labels']):\n",
        "            input_ids.append(n1)\n",
        "            token_type_ids.append(n2)\n",
        "            attention_mask.append(n3)\n",
        "            labels.append(n4)\n",
        "\n",
        "        input_ids_pad = pad_sequences(input_ids, padding='post', maxlen=sl)\n",
        "        token_type_ids_pad = pad_sequences(token_type_ids, padding='post', maxlen=sl)\n",
        "        attention_mask_pad = pad_sequences(attention_mask, padding='post', maxlen=sl)\n",
        "        labels_pad = pad_sequences(labels, padding='post', value=-100, maxlen=sl)\n",
        "\n",
        "        return {'input_ids': tf.constant(input_ids_pad), 'token_type_ids': tf.constant(token_type_ids_pad),\n",
        "              'attention_mask': tf.constant(attention_mask_pad)}, labels_pad\n",
        "\n",
        "    elif len(tok_output) == 3:\n",
        "        input_ids = []\n",
        "        attention_mask = []\n",
        "        labels = []\n",
        "        for n1, n2, n3 in zip(tok_output['input_ids'], tok_output['attention_mask'], tok_output['labels']):\n",
        "            input_ids.append(n1)\n",
        "            attention_mask.append(n2)\n",
        "            labels.append(n3)\n",
        "\n",
        "        input_ids_pad = pad_sequences(input_ids, padding='post', maxlen=sl)\n",
        "        attention_mask_pad = pad_sequences(attention_mask, padding='post', maxlen=sl)\n",
        "        labels_pad = pad_sequences(labels, padding='post', value=-100, maxlen=sl)\n",
        "\n",
        "        return {'input_ids': tf.constant(input_ids_pad), 'attention_mask': tf.constant(attention_mask_pad)}, labels_pad"
      ]
    },
    {
      "cell_type": "code",
      "execution_count": 13,
      "metadata": {
        "id": "tU0n4dtwdh8S"
      },
      "outputs": [],
      "source": [
        "'''Reading in data'''\n",
        "pmb_data = pd.read_csv('sem-pmb_4_0_0-gold.csv') # Change to \"sem-pmb_4_0_0-all-gold.csv\" to use with only multilingual data from PMB\n",
        "data = pmb_data.groupby('sent_file').agg({'token': list, 'lemma': list, 'from': list, 'to': list, 'semtag': list}).reset_index()\n",
        "labels = [val for sublist in data['semtag'] for val in sublist]\n",
        "\n",
        "'''Encode labels'''\n",
        "labels_enc, label_names = label_encoding(labels, data)\n",
        "data['enc_semtag'] = labels_enc\n",
        "\n",
        "'''Splitting data into train (80%), dev (10%) and test (10%)'''\n",
        "df_train, df_test = train_test_split(data, test_size=0.20, random_state=1234)\n",
        "df_dev, df_test = train_test_split(df_test, test_size=0.50, random_state=1234)"
      ]
    },
    {
      "cell_type": "code",
      "source": [
        "'''Check total labels in train set'''\n",
        "labels_train = [val for sublist in df_train['enc_semtag'] for val in sublist]\n",
        "len(labels_train)"
      ],
      "metadata": {
        "colab": {
          "base_uri": "https://localhost:8080/"
        },
        "id": "-W5Bj6nS9XBA",
        "outputId": "8090a750-8de3-478b-d1cd-94a0f8ea16ae"
      },
      "execution_count": 14,
      "outputs": [
        {
          "output_type": "execute_result",
          "data": {
            "text/plain": [
              "92933"
            ]
          },
          "metadata": {},
          "execution_count": 14
        }
      ]
    },
    {
      "cell_type": "code",
      "execution_count": 15,
      "metadata": {
        "colab": {
          "base_uri": "https://localhost:8080/"
        },
        "id": "pKMdcKdgs4Wn",
        "outputId": "3442e975-a1fb-4006-a74e-bd02eaf1c6a9"
      },
      "outputs": [
        {
          "output_type": "execute_result",
          "data": {
            "text/plain": [
              "11535"
            ]
          },
          "metadata": {},
          "execution_count": 15
        }
      ],
      "source": [
        "'''Check total labels in dev set'''\n",
        "labels_dev = [val for sublist in df_dev['enc_semtag'] for val in sublist]\n",
        "len(labels_dev)"
      ]
    },
    {
      "cell_type": "code",
      "execution_count": 16,
      "metadata": {
        "id": "eCRpM3Bw-0vS",
        "colab": {
          "base_uri": "https://localhost:8080/"
        },
        "outputId": "ee7661c0-3244-4bfc-f372-4ccaf72bf9b0"
      },
      "outputs": [
        {
          "output_type": "execute_result",
          "data": {
            "text/plain": [
              "11526"
            ]
          },
          "metadata": {},
          "execution_count": 16
        }
      ],
      "source": [
        "'''Check if total labels in test set are equal to amount predicted by model in classification report'''\n",
        "labels_test = [val for sublist in df_test['enc_semtag'] for val in sublist]\n",
        "len(labels_test)"
      ]
    },
    {
      "cell_type": "markdown",
      "metadata": {
        "id": "RY28fO0092ma"
      },
      "source": [
        "# BERT (bert-base-uncased)"
      ]
    },
    {
      "cell_type": "code",
      "execution_count": null,
      "metadata": {
        "scrolled": false,
        "id": "zSJJSroks4Wn",
        "outputId": "61e5514d-bd23-4343-9146-88630bc1e238",
        "colab": {
          "base_uri": "https://localhost:8080/",
          "height": 1000
        }
      },
      "outputs": [
        {
          "output_type": "stream",
          "name": "stdout",
          "text": [
            "Training model: bert-base-uncased\n",
            "With parameters:\n",
            "Learn rate: 5e-05, Batch size: 8\n",
            "Epochs: 20, Sequence length: 80\n",
            "Epoch 1/20\n",
            "1072/1072 [==============================] - 221s 170ms/step - loss: 0.3267 - accuracy: 0.9346 - val_loss: 0.0832 - val_accuracy: 0.9813\n",
            "Epoch 2/20\n",
            "1072/1072 [==============================] - 168s 157ms/step - loss: 0.0644 - accuracy: 0.9858 - val_loss: 0.0666 - val_accuracy: 0.9870\n",
            "Epoch 3/20\n",
            "1072/1072 [==============================] - 168s 156ms/step - loss: 0.0412 - accuracy: 0.9904 - val_loss: 0.0936 - val_accuracy: 0.9797\n",
            "Epoch 4/20\n",
            "1072/1072 [==============================] - 168s 156ms/step - loss: 0.0344 - accuracy: 0.9917 - val_loss: 0.0715 - val_accuracy: 0.9864\n",
            "Epoch 5/20\n",
            "1072/1072 [==============================] - 167s 156ms/step - loss: 0.0288 - accuracy: 0.9929 - val_loss: 0.0800 - val_accuracy: 0.9843\n",
            "Testing model: bert-base-uncased\n",
            "With parameters:\n",
            "Learn rate: 5e-05, Batch size: 8\n",
            "Epochs: 20, Sequence length: 80\n",
            "34/34 [==============================] - 8s 170ms/step\n",
            "              precision    recall  f1-score   support\n",
            "\n",
            "         ALT     0.9655    0.9655    0.9655        29\n",
            "         AND     0.9796    0.9057    0.9412        53\n",
            "         APX     1.0000    0.9231    0.9600        13\n",
            "         ART     0.2353    0.8000    0.3636         5\n",
            "         BOT     1.0000    1.0000    1.0000         1\n",
            "         BUT     1.0000    1.0000    1.0000         7\n",
            "         CLO     1.0000    1.0000    1.0000        19\n",
            "         COL     1.0000    1.0000    1.0000        12\n",
            "         CON     0.9875    0.9966    0.9920       871\n",
            "         COO     0.8889    1.0000    0.9412        16\n",
            "         CTC     0.6667    1.0000    0.8000         2\n",
            "         DEF     0.9900    0.9900    0.9900       797\n",
            "         DEG     0.9000    0.9000    0.9000        30\n",
            "         DIS     0.9832    0.9832    0.9832       476\n",
            "         DOM     1.0000    1.0000    1.0000         5\n",
            "         DOW     1.0000    1.0000    1.0000         3\n",
            "         DST     0.9643    1.0000    0.9818        27\n",
            "         EFS     0.6667    0.6667    0.6667         3\n",
            "         EMP     0.9474    0.9730    0.9600        37\n",
            "         ENS     0.9607    0.9910    0.9756       222\n",
            "         EPS     0.9945    1.0000    0.9972       361\n",
            "         EQU     1.0000    0.5556    0.7143        18\n",
            "         EXG     0.9906    0.9813    0.9859       107\n",
            "         EXS     0.9897    0.9796    0.9846       196\n",
            "         EXT     1.0000    1.0000    1.0000        36\n",
            "         FUT     0.9667    0.9355    0.9508        31\n",
            "         GEO     0.8571    0.8000    0.8276        15\n",
            "         GPE     0.9655    0.9655    0.9655        58\n",
            "         GPO     1.0000    0.9412    0.9697        17\n",
            "         GRE     1.0000    0.0000    0.0000         1\n",
            "         GRP     1.0000    0.9091    0.9524        11\n",
            "         HAP     1.0000    1.0000    1.0000         1\n",
            "         HAS     1.0000    1.0000    1.0000       174\n",
            "         INT     1.0000    1.0000    1.0000        36\n",
            "         IST     0.9831    0.9587    0.9707       242\n",
            "         ITJ     0.5000    1.0000    0.6667         1\n",
            "         LES     1.0000    1.0000    1.0000         1\n",
            "         LIT     0.9286    0.8667    0.8966        15\n",
            "         MOR     0.9167    1.0000    0.9565        11\n",
            "         MOY     1.0000    1.0000    1.0000         5\n",
            "         NEC     1.0000    0.9000    0.9474        10\n",
            "         NIL     0.9944    0.9972    0.9958      1069\n",
            "         NOT     1.0000    1.0000    1.0000        94\n",
            "         NOW     0.9944    0.9944    0.9944       358\n",
            "         NTH     1.0000    0.0000    0.0000         4\n",
            "         ORD     1.0000    0.7500    0.8571         4\n",
            "         ORG     1.0000    0.6250    0.7692        16\n",
            "         PER     1.0000    0.9851    0.9925       335\n",
            "         PFT     0.8889    1.0000    0.9412         8\n",
            "         POS     1.0000    1.0000    1.0000        14\n",
            "         PRG     1.0000    0.6667    0.8000         3\n",
            "         PRO     0.9981    0.9963    0.9972       537\n",
            "         PRX     1.0000    1.0000    1.0000        51\n",
            "         PST     0.9926    0.9926    0.9926       136\n",
            "         QUC     0.9802    1.0000    0.9900        99\n",
            "         QUE     1.0000    1.0000    1.0000       152\n",
            "         QUV     1.0000    1.0000    1.0000        29\n",
            "         REF     1.0000    1.0000    1.0000         7\n",
            "         REL     0.9875    0.9979    0.9927       475\n",
            "         ROL     0.9924    0.9848    0.9886       132\n",
            "         SCO     1.0000    1.0000    1.0000         6\n",
            "         SUB     1.0000    1.0000    1.0000        10\n",
            "         TOP     1.0000    1.0000    1.0000         8\n",
            "         UOM     0.9825    1.0000    0.9912        56\n",
            "         YOC     1.0000    1.0000    1.0000        17\n",
            "\n",
            "    accuracy                         0.9870      7595\n",
            "   macro avg     0.9544    0.9212    0.9155      7595\n",
            "weighted avg     0.9884    0.9870    0.9869      7595\n",
            "\n"
          ]
        }
      ],
      "source": [
        "'''Tokenizing train'''\n",
        "x_train = df_train['token'].tolist()\n",
        "y_train = df_train['enc_semtag'].tolist()\n",
        "\n",
        "x_train_adj = []\n",
        "for train_text in x_train:\n",
        "    tt = ' '.join(train_text)\n",
        "    tt = tt.split()\n",
        "    x_train_adj.append(tt)\n",
        "train_tok = tokenize_and_align('bert-base-uncased', x_train_adj, y_train)\n",
        "\n",
        "'''Tokenizing dev'''\n",
        "x_dev = df_dev['token'].tolist()\n",
        "y_dev = df_dev['enc_semtag'].tolist()\n",
        "\n",
        "x_dev_adj = []\n",
        "for dev_text in x_dev:\n",
        "    td = ' '.join(dev_text)\n",
        "    td = td.split()\n",
        "    x_dev_adj.append(td)\n",
        "dev_tok = tokenize_and_align('bert-base-uncased', x_dev_adj, y_dev)\n",
        "\n",
        "'''Tokenizing test'''\n",
        "x_test = df_test['token'].tolist()\n",
        "y_test = df_test['enc_semtag'].tolist()\n",
        "\n",
        "x_test_adj = []\n",
        "for test_text in x_test:\n",
        "    ts = ' '.join(test_text)\n",
        "    ts = ts.split()\n",
        "    x_test_adj.append(ts)\n",
        "test_tok = tokenize_and_align('bert-base-uncased', x_test_adj, y_test)\n",
        "\n",
        "'''Training and evaluating BERT-base (bert-base-uncased)'''\n",
        "BERT_base = train_model('bert-base-uncased', 5e-5, 8, 20, 80, label_names, train_tok, dev_tok)\n",
        "print(evaluate_model(BERT_base, 'bert-base-uncased', 5e-5, 8, 20, 80, label_names, test_tok))"
      ]
    },
    {
      "cell_type": "code",
      "source": [
        "Y_gold1, Y_pred1 = evaluate_custom(BERT_base, 80, label_names, test_tok)"
      ],
      "metadata": {
        "colab": {
          "base_uri": "https://localhost:8080/"
        },
        "id": "2cv4DSrOOPfo",
        "outputId": "fb056f5e-b625-4724-d77a-db215ee4fb05"
      },
      "execution_count": null,
      "outputs": [
        {
          "output_type": "stream",
          "name": "stdout",
          "text": [
            "34/34 [==============================] - 6s 186ms/step\n"
          ]
        }
      ]
    },
    {
      "cell_type": "code",
      "source": [
        "'''Sentences which BERT predicted wrong from the test set'''\n",
        "num1 = 0\n",
        "for x1, y1 in zip(Y_gold1, Y_pred1):\n",
        "  num1 += 1\n",
        "  if x1 != y1:\n",
        "    print(num1, x1, y1)"
      ],
      "metadata": {
        "colab": {
          "base_uri": "https://localhost:8080/"
        },
        "id": "xgT-WCe_OW6q",
        "outputId": "d1835167-98b5-4138-fbeb-8d32ef2e127e"
      },
      "execution_count": null,
      "outputs": [
        {
          "output_type": "stream",
          "name": "stdout",
          "text": [
            "23 ['QUE', 'PST', 'DEF', 'ART', 'EXS', 'QUE'] ['QUE', 'PST', 'DEF', 'CON', 'EXS', 'QUE']\n",
            "36 ['DEF', 'CON', 'ENS', 'REL', 'DEF', 'CLO', 'NIL'] ['DEF', 'CON', 'EFS', 'REL', 'DEF', 'CLO', 'NIL']\n",
            "38 ['DEF', 'CON', 'NOW', 'IST', 'NIL'] ['DEF', 'CON', 'NOW', 'EXS', 'NIL']\n",
            "42 ['DEF', 'PER', 'EPS', 'DEF', 'NTH', 'NIL'] ['DEF', 'PER', 'EPS', 'DEF', 'ART', 'NIL']\n",
            "50 ['PRO', 'NOW', 'EXG', 'REL', 'HAS', 'ROL', 'NIL'] ['PRO', 'NOW', 'EXG', 'REL', 'HAS', 'CON', 'NIL']\n",
            "58 ['EMP', 'PRO', 'PST', 'EXS', 'NIL'] ['AND', 'PRO', 'PST', 'EXS', 'NIL']\n",
            "79 ['DEF', 'PER', 'EPS', 'DEF', 'PER', 'NIL'] ['DEF', 'PER', 'EPS', 'DEF', 'LIT', 'NIL']\n",
            "86 ['SUB', 'PRO', 'NOW', 'IST', 'NIL', 'SUB', 'DEF', 'PER', 'NOW', 'IST', 'NIL'] ['SUB', 'DST', 'NOW', 'IST', 'NIL', 'SUB', 'DEF', 'PER', 'NOW', 'IST', 'NIL']\n",
            "103 ['DEF', 'PER', 'PST', 'EXS', 'REL', 'DEF', 'DOM', 'EQU', 'MOY', 'YOC', 'NIL'] ['DEF', 'PER', 'PST', 'EXS', 'REL', 'DEF', 'DOM', 'REL', 'MOY', 'YOC', 'NIL']\n",
            "116 ['DEF', 'CON', 'EPS', 'ALT', 'NIL'] ['DEF', 'CON', 'EPS', 'IST', 'NIL']\n",
            "129 ['DEF', 'CON', 'PST', 'IST', 'NIL'] ['DEF', 'CON', 'PST', 'EXG', 'NIL']\n",
            "148 ['QUE', 'CON', 'EPS', 'DEF', 'CON', 'NIL', 'LIT', 'NIL', 'QUE'] ['QUE', 'CON', 'EPS', 'DEF', 'CON', 'NIL', 'ART', 'NIL', 'QUE']\n",
            "149 ['AND', 'CON', 'EQU', 'DIS', 'CON', 'NIL'] ['AND', 'CON', 'ENS', 'DIS', 'CON', 'NIL']\n",
            "162 ['DEF', 'CON', 'ENS', 'DEF', 'CON', 'REL', 'DEF', 'GPE', 'NIL'] ['DEF', 'CON', 'ENS', 'DIS', 'CON', 'REL', 'DEF', 'GPE', 'NIL']\n",
            "173 ['REL', 'DEF', 'YOC', 'NIL', 'DEF', 'CON', 'PST', 'EXS', 'REL', 'DEF', 'GEO', 'NIL'] ['REL', 'DEF', 'YOC', 'NIL', 'DEF', 'CON', 'PST', 'EXS', 'REL', 'DEF', 'ART', 'NIL']\n",
            "177 ['DEF', 'PER', 'PST', 'DIS', 'ROL', 'NIL'] ['DEF', 'PER', 'EPS', 'DIS', 'ROL', 'NIL']\n",
            "180 ['FUT', 'PRO', 'EXS', 'DEF', 'CON', 'REL', 'DEF', 'PER', 'NIL', 'NIL'] ['FUT', 'PRO', 'EXS', 'DEF', 'CON', 'REL', 'DEF', 'ART', 'NIL', 'NIL']\n",
            "181 ['PRO', 'ENS', 'NOT', 'DIS', 'CON', 'NIL', 'PRO', 'ENS', 'DIS', 'CON', 'NIL'] ['PRO', 'ENS', 'NOT', 'DIS', 'CON', 'NIL', 'PRO', 'ENS', 'DEF', 'CON', 'NIL']\n",
            "187 ['HAS', 'CON', 'EXS', 'REL', 'HAS', 'NIL'] ['HAS', 'CON', 'ENS', 'REL', 'HAS', 'NIL']\n",
            "223 ['PRO', 'EPS', 'REL', 'DEF', 'CON', 'NTH', 'NIL'] ['PRO', 'EPS', 'REL', 'DIS', 'CON', 'CTC', 'NIL']\n",
            "228 ['REL', 'DIS', 'MOY', 'DOM', 'EQU', 'YOC', 'NIL', 'PRO', 'EPS', 'REL', 'DEF', 'GPO', 'CON', 'ALT', 'NIL'] ['REL', 'DEF', 'MOY', 'DOM', 'NIL', 'YOC', 'NIL', 'PRO', 'EPS', 'REL', 'DEF', 'GPO', 'CON', 'ALT', 'NIL']\n",
            "266 ['DEF', 'ORG', 'NOW', 'IST', 'SCO', 'NIL'] ['DEF', 'CON', 'NOW', 'IST', 'SCO', 'EMP']\n",
            "295 ['PRO', 'NEC', 'EXS', 'REL', 'DEF', 'ROL', 'AND', 'FUT', 'DST', 'CON', 'EXS', 'REL', 'NIL'] ['PRO', 'NEC', 'EXS', 'REL', 'DEF', 'ROL', 'COO', 'FUT', 'DST', 'CON', 'EXS', 'REL', 'NIL']\n",
            "303 ['DEF', 'CON', 'NEC', 'FUT', 'EXS', 'NIL'] ['DEF', 'CON', 'NEC', 'NIL', 'EXS', 'NIL']\n",
            "326 ['NOT', 'ENS', 'REL', 'DEF', 'CON', 'NIL', 'BUT', 'DEF', 'CON', 'NOW', 'IST', 'NIL'] ['NOT', 'ENS', 'REL', 'DEF', 'CON', 'NIL', 'BUT', 'DEF', 'CON', 'ENS', 'REL', 'NIL']\n",
            "339 ['DIS', 'CON', 'REL', 'DEF', 'CON', 'REL', 'GPE', 'EPS', 'DIS', 'CON', 'REL', 'DEF', 'PER', 'NIL'] ['DIS', 'CON', 'REL', 'DEF', 'CON', 'REL', 'ART', 'EPS', 'DIS', 'CON', 'REL', 'DEF', 'PER', 'NIL']\n",
            "343 ['PRO', 'NOW', 'DIS', 'ROL', 'NIL'] ['PRO', 'ENS', 'DIS', 'ROL', 'NIL']\n",
            "361 ['DEF', 'CON', 'NOW', 'EXG', 'DIS', 'QUC', 'CON', 'NIL'] ['DEF', 'CON', 'NOW', 'EXG', 'DIS', 'QUC', 'UOM', 'NIL']\n",
            "383 ['DIS', 'CON', 'ENS', 'REL', 'DIS', 'CON', 'GRP', 'DIS', 'ALT', 'IST', 'CON', 'NIL'] ['DIS', 'CON', 'ENS', 'REL', 'DIS', 'CON', 'GRP', 'DIS', 'ALT', 'DEG', 'CON', 'NIL']\n",
            "398 ['QUE', 'EPS', 'DIS', 'CON', 'QUE'] ['QUE', 'EPS', 'DEF', 'ART', 'QUE']\n",
            "412 ['PRO', 'FUT', 'EXS', 'REL', 'DEF', 'DOM', 'EQU', 'MOY', 'NIL'] ['PRO', 'FUT', 'EXS', 'REL', 'DEF', 'DOM', 'REL', 'MOY', 'NIL']\n",
            "415 ['PRO', 'EPS', 'DEG', 'DIS', 'QUC', 'UOM', 'NIL'] ['PRO', 'EPS', 'EPS', 'DIS', 'QUC', 'UOM', 'NIL']\n",
            "427 ['PRX', 'CON', 'NOW', 'DIS', 'QUC', 'UOM', 'IST', 'NIL'] ['PRX', 'CON', 'NOW', 'DIS', 'QUC', 'UOM', 'DEG', 'NIL']\n",
            "441 ['PRX', 'CON', 'EFS', 'REL', 'DIS', 'CLO', 'EQU', 'NIL'] ['PRX', 'CON', 'EFS', 'REL', 'DEF', 'CLO', 'EQU', 'NIL']\n",
            "442 ['DEF', 'PER', 'NOW', 'PRG', 'EXG', 'PRO', 'DIS', 'CON', 'NIL'] ['DEF', 'PER', 'NOW', 'PFT', 'EXG', 'PRO', 'DIS', 'CON', 'NIL']\n",
            "496 ['QUE', 'DEG', 'NOW', 'DEF', 'PER', 'QUE'] ['QUE', 'DEG', 'NOW', 'DEF', 'ART', 'QUE']\n",
            "511 ['DEF', 'PER', 'PST', 'EXS', 'REL', 'DEF', 'GEO', 'NIL'] ['DEF', 'PER', 'PST', 'EXS', 'REL', 'DEF', 'ART', 'NIL']\n",
            "559 ['DST', 'CON', 'HAS', 'CON', 'NOW', 'DEG', 'ENS', 'DEF', 'PER', 'NIL'] ['DST', 'CON', 'HAS', 'CON', 'NOW', 'DEG', 'NOW', 'DEF', 'PER', 'NIL']\n",
            "563 ['QUE', 'ENS', 'DEF', 'ROL', 'HAS', 'CON', 'REL', 'DIS', 'NTH', 'CON', 'QUE'] ['QUE', 'ENS', 'DEF', 'ROL', 'HAS', 'CON', 'REL', 'DEF', 'ART', 'CON', 'QUE']\n",
            "579 ['DEF', 'CON', 'REL', 'DEF', 'PER', 'EPS', 'REL', 'REL', 'DEF', 'YOC', 'NIL'] ['DEF', 'CON', 'REL', 'DEF', 'PER', 'EPS', 'NIL', 'REL', 'DEF', 'YOC', 'NIL']\n",
            "586 ['HAS', 'ROL', 'FUT', 'NIL', 'NIL', 'EXS', 'PRO', 'NIL'] ['HAS', 'ROL', 'NIL', 'FUT', 'NIL', 'EXS', 'PRO', 'NIL']\n",
            "587 ['DEF', 'CON', 'NOW', 'MOR', 'REL', 'DEF', 'CON', 'NIL'] ['QUC', 'CON', 'NOW', 'MOR', 'REL', 'DIS', 'CON', 'NIL']\n",
            "606 ['PRO', 'GRP', 'ALT', 'PRO', 'NIL', 'NOW', 'NOT', 'IST', 'NIL'] ['PRO', 'NIL', 'ALT', 'PRO', 'NIL', 'NOW', 'NOT', 'IST', 'NIL']\n",
            "607 ['DEF', 'PER', 'PST', 'EQU', 'IST', 'REL', 'DEF', 'PER', 'NIL'] ['DEF', 'PER', 'PST', 'EQU', 'IST', 'REL', 'DIS', 'CON', 'NIL']\n",
            "609 ['PRO', 'FUT', 'EXS', 'DIS', 'QUC', 'UOM', 'REL', 'HAS', 'EXG', 'NIL'] ['PRO', 'FUT', 'EXS', 'DIS', 'QUC', 'UOM', 'REL', 'HAS', 'CON', 'NIL']\n",
            "619 ['NOT', 'REL', 'PRX', 'CON', 'EFS', 'REL', 'DEF', 'GPE', 'NIL'] ['NOT', 'REL', 'PRX', 'CON', 'ENS', 'REL', 'DEF', 'GPE', 'NIL']\n",
            "623 ['EXS', 'HAS', 'CON', 'NIL', 'IST', 'NIL'] ['EXS', 'HAS', 'CON', 'NIL', 'EMP', 'NIL']\n",
            "625 ['DEF', 'ORG', 'EPS', 'DEF', 'ORG', 'NIL'] ['DEF', 'GPE', 'EPS', 'DEF', 'GPE', 'NIL']\n",
            "628 ['DEF', 'ROL', 'NOW', 'EXT', 'DIS', 'IST', 'ROL', 'NIL'] ['DEF', 'ROL', 'NOW', 'EXT', 'DIS', 'IST', 'CON', 'NIL']\n",
            "635 ['DEF', 'CON', 'ENS', 'REL', 'DEF', 'GEO', 'NIL'] ['DEF', 'CON', 'ENS', 'REL', 'DIS', 'CON', 'NIL']\n",
            "653 ['AND', 'ROL', 'ENS', 'REL', 'DIS', 'CON', 'IST', 'NIL'] ['AND', 'ROL', 'ENS', 'REL', 'DIS', 'ROL', 'CON', 'NIL']\n",
            "673 ['PRX', 'CON', 'ENS', 'DIS', 'APX', 'QUC', 'UOM', 'NIL'] ['PRX', 'CON', 'ENS', 'DIS', 'MOR', 'QUC', 'UOM', 'NIL']\n",
            "676 ['DEF', 'GPO', 'CON', 'REL', 'DEF', 'GPE', 'NOW', 'EXT', 'NIL'] ['DIS', 'GPO', 'CON', 'REL', 'DEF', 'GPE', 'NOW', 'EXT', 'NIL']\n",
            "714 ['DEF', 'NTH', 'ENS', 'DIS', 'GPO', 'CON', 'NIL'] ['DEF', 'CON', 'ENS', 'DIS', 'GEO', 'CON', 'NIL']\n",
            "762 ['QUE', 'ENS', 'DEF', 'GPO', 'CON', 'REL', 'DEF', 'GPE', 'QUE'] ['QUE', 'ENS', 'DEF', 'GPO', 'CON', 'REL', 'DEF', 'GEO', 'QUE']\n",
            "773 ['QUE', 'ENS', 'DEF', 'PER', 'QUE'] ['QUE', 'ENS', 'DEF', 'ART', 'QUE']\n",
            "788 ['GRE', 'NIL'] ['ITJ', 'NIL']\n",
            "794 ['DEF', 'PER', 'EPS', 'DEF', 'CON', 'COO', 'EPS', 'REL', 'DEF', 'CON', 'COO', 'EPS', 'PRO', 'REL', 'DEF', 'CON', 'NIL'] ['DEF', 'PER', 'EPS', 'DEF', 'CON', 'COO', 'EPS', 'REL', 'DEF', 'CON', 'COO', 'EPS', 'REL', 'REL', 'DEF', 'CON', 'NIL']\n",
            "810 ['DEF', 'CON', 'NEC', 'EXG', 'NIL'] ['DEF', 'CON', 'ENS', 'EXG', 'NIL']\n",
            "823 ['DEF', 'PER', 'EPS', 'DIS', 'IST', 'CON', 'NIL'] ['DEF', 'PER', 'EPS', 'DIS', 'CON', 'CON', 'NIL']\n",
            "828 ['DIS', 'DOW', 'HAS', 'CON', 'FUT', 'NIL', 'IST', 'NIL'] ['DEF', 'DOW', 'HAS', 'CON', 'FUT', 'NIL', 'IST', 'NIL']\n",
            "853 ['DEF', 'ORG', 'NIL'] ['DEF', 'ART', 'NIL']\n",
            "858 ['PRO', 'IST', 'EPS', 'HAS', 'CON', 'NIL'] ['PRO', 'PST', 'EPS', 'HAS', 'CON', 'NIL']\n",
            "859 ['PRO', 'EPS', 'DEF', 'GPO', 'ROL', 'PER', 'REL', 'DIS', 'QUC', 'CON', 'REL', 'SCO', 'GRP', 'SCO', 'NIL'] ['PRO', 'EPS', 'DIS', 'GPO', 'ROL', 'PER', 'REL', 'DIS', 'QUC', 'CON', 'REL', 'SCO', 'GRP', 'SCO', 'NIL']\n",
            "875 ['DEF', 'PER', 'ENS', 'DEF', 'CON', 'AND', 'DEF', 'CON', 'NIL'] ['DEF', 'PER', 'ENS', 'DEF', 'CON', 'ALT', 'DEF', 'CON', 'NIL']\n",
            "878 ['QUE', 'CON', 'NOW', 'EXS', 'REL', 'DEF', 'CON', 'NIL', 'LIT', 'NIL', 'QUE'] ['QUE', 'CON', 'NOW', 'EXS', 'REL', 'DEF', 'CON', 'NIL', 'ART', 'NIL', 'QUE']\n",
            "879 ['PRO', 'EPS', 'REL', 'DEF', 'CON', 'AND', 'EPS', 'NIL'] ['PRO', 'EPS', 'REL', 'DEF', 'CON', 'COO', 'EPS', 'NIL']\n",
            "882 ['PRO', 'CON', 'NEC', 'NIL', 'IST', 'NIL'] ['PRO', 'CON', 'NEC', 'NOW', 'IST', 'NIL']\n",
            "886 ['AND', 'POS', 'NOT', 'EXS', 'REF', 'NIL'] ['PRO', 'POS', 'NOT', 'EXS', 'REF', 'NIL']\n",
            "894 ['DEF', 'PER', 'EPS', 'REL', 'REL', 'DIS', 'CLO', 'REL', 'DEF', 'CON', 'NIL'] ['DEF', 'PER', 'EPS', 'REL', 'REL', 'DEF', 'CLO', 'REL', 'DEF', 'CON', 'NIL']\n",
            "898 ['DEF', 'ORG', 'ENS', 'DIS', 'UOM', 'QUC', 'NIL'] ['DEF', 'ART', 'ENS', 'DIS', 'UOM', 'QUC', 'NIL']\n",
            "918 ['AND', 'CON', 'EXS', 'REL', 'DIS', 'CON', 'NIL'] ['AND', 'CON', 'ENS', 'REL', 'DIS', 'CON', 'NIL']\n",
            "942 ['DIS', 'INT', 'DEG', 'CON', 'EPS', 'HAS', 'CON', 'NIL'] ['DIS', 'INT', 'IST', 'CON', 'EPS', 'HAS', 'CON', 'NIL']\n",
            "964 ['QUE', 'EPS', 'DEF', 'PER', 'EQU', 'DEF', 'GPO', 'ROL', 'QUE'] ['QUE', 'EPS', 'DEF', 'PER', 'REL', 'DEF', 'GPO', 'ROL', 'QUE']\n",
            "966 ['QUE', 'EXS', 'DEF', 'CON', 'REL', 'QUC', 'QUE'] ['QUE', 'ENS', 'DEF', 'CON', 'REL', 'QUC', 'QUE']\n",
            "983 ['DEF', 'PER', 'NOW', 'EXS', 'NIL'] ['DEF', 'PER', 'NOW', 'IST', 'NIL']\n",
            "993 ['PRO', 'NOW', 'DEG', 'DIS', 'QUC', 'NIL'] ['PRO', 'NOW', 'EXS', 'DIS', 'QUC', 'NIL']\n",
            "1002 ['PRO', 'NOW', 'NOT', 'EXG', 'REL', 'DIS', 'CON', 'NIL', 'PRO', 'NOW', 'IST', 'IST', 'NIL'] ['PRO', 'NOW', 'NOT', 'IST', 'REL', 'DIS', 'CON', 'NIL', 'PRO', 'NOW', 'IST', 'IST', 'NIL']\n",
            "1010 ['DEF', 'GEO', 'EQU', 'DEF', 'TOP', 'CON', 'REL', 'DEF', 'GPE', 'NIL', 'NOW', 'DIS', 'QUC', 'UOM', 'DEG', 'NIL'] ['DEF', 'GEO', 'NIL', 'DEF', 'TOP', 'CON', 'REL', 'DEF', 'GPE', 'NIL', 'NOW', 'DIS', 'QUC', 'UOM', 'DEG', 'NIL']\n",
            "1032 ['DEF', 'PER', 'NOW', 'EXT', 'DIS', 'IST', 'CON', 'NIL'] ['DEF', 'PER', 'NOW', 'EXT', 'DIS', 'DEG', 'CON', 'NIL']\n",
            "1037 ['DEF', 'GPO', 'ROL', 'EQU', 'DEF', 'PER', 'NIL', 'NOW', 'EXT', 'REL', 'NIL'] ['DEF', 'GPO', 'ROL', 'REL', 'DEF', 'PER', 'NIL', 'NOW', 'EXT', 'REL', 'NIL']\n",
            "1048 ['PRO', 'EQU', 'DEF', 'PER', 'NIL'] ['PRO', 'ENS', 'DEF', 'PER', 'NIL']\n",
            "1060 ['DIS', 'IST', 'CON', 'PST', 'EXS', 'REL', 'DEF', 'GPE', 'REL', 'DEF', 'DOM', 'MOY', 'YOC', 'NIL', 'DEF', 'ORG', 'EPS', 'DEF', 'TOP', 'CON', 'REL', 'DEF', 'ORG', 'NIL', 'AND', 'EXG', 'ORD', 'REL', 'DEF', 'QUC', 'CON', 'NIL'] ['DIS', 'IST', 'CON', 'PST', 'EXS', 'REL', 'DEF', 'GPE', 'REL', 'DEF', 'DOM', 'MOY', 'YOC', 'NIL', 'DEF', 'ORG', 'EPS', 'DEF', 'TOP', 'CON', 'REL', 'DEF', 'ORG', 'NIL', 'DIS', 'EXG', 'QUC', 'REL', 'DEF', 'QUC', 'CON', 'NIL']\n",
            "1065 ['NIL', 'NOW', 'DIS', 'CLO', 'REL', 'DEF', 'CON', 'NIL'] ['NIL', 'NOW', 'DEF', 'CLO', 'REL', 'DEF', 'CON', 'NIL']\n",
            "1070 ['DEF', 'ORG', 'EPS', 'DIS', 'UOM', 'QUC', 'REL', 'DIS', 'QUC', 'UOM', 'NIL'] ['DEF', 'CON', 'EPS', 'DIS', 'UOM', 'QUC', 'REL', 'DIS', 'QUC', 'UOM', 'NIL']\n"
          ]
        }
      ]
    },
    {
      "cell_type": "code",
      "source": [
        "x_test[49:50]"
      ],
      "metadata": {
        "colab": {
          "base_uri": "https://localhost:8080/"
        },
        "id": "b3qSCm33OuwU",
        "outputId": "c317be32-5fea-4721-e250-185cb001af70"
      },
      "execution_count": null,
      "outputs": [
        {
          "output_type": "execute_result",
          "data": {
            "text/plain": [
              "[['I', 'am', 'singing', 'with', 'my', 'children', '.']]"
            ]
          },
          "metadata": {},
          "execution_count": 38
        }
      ]
    },
    {
      "cell_type": "markdown",
      "metadata": {
        "id": "KSQ0CqJA991M"
      },
      "source": [
        "# RoBERTa (roberta-base)"
      ]
    },
    {
      "cell_type": "code",
      "execution_count": null,
      "metadata": {
        "id": "uYGvMiYP9rjF",
        "colab": {
          "base_uri": "https://localhost:8080/"
        },
        "outputId": "0b62dc44-e8db-463c-b460-7c329e106ab7"
      },
      "outputs": [
        {
          "output_type": "stream",
          "name": "stdout",
          "text": [
            "Training model: roberta-base\n",
            "With parameters:\n",
            "Learn rate: 5e-05, Batch size: 32\n",
            "Epochs: 20, Sequence length: 80\n",
            "Epoch 1/20\n",
            "268/268 [==============================] - 175s 515ms/step - loss: 0.5232 - accuracy: 0.8975 - val_loss: 0.0963 - val_accuracy: 0.9787\n",
            "Epoch 2/20\n",
            "268/268 [==============================] - 138s 517ms/step - loss: 0.0868 - accuracy: 0.9814 - val_loss: 0.0713 - val_accuracy: 0.9849\n",
            "Epoch 3/20\n",
            "268/268 [==============================] - 138s 517ms/step - loss: 0.0503 - accuracy: 0.9888 - val_loss: 0.0610 - val_accuracy: 0.9886\n",
            "Epoch 4/20\n",
            "268/268 [==============================] - 138s 515ms/step - loss: 0.0385 - accuracy: 0.9912 - val_loss: 0.0685 - val_accuracy: 0.9864\n",
            "Epoch 5/20\n",
            "268/268 [==============================] - 138s 516ms/step - loss: 0.0305 - accuracy: 0.9928 - val_loss: 0.0602 - val_accuracy: 0.9882\n",
            "Epoch 6/20\n",
            "268/268 [==============================] - 138s 515ms/step - loss: 0.0240 - accuracy: 0.9943 - val_loss: 0.0647 - val_accuracy: 0.9865\n",
            "Epoch 7/20\n",
            "268/268 [==============================] - 138s 515ms/step - loss: 0.0217 - accuracy: 0.9943 - val_loss: 0.0796 - val_accuracy: 0.9849\n",
            "Epoch 8/20\n",
            "268/268 [==============================] - 138s 516ms/step - loss: 0.0221 - accuracy: 0.9946 - val_loss: 0.0759 - val_accuracy: 0.9865\n",
            "Testing model: robert-base\n",
            "With parameters:\n",
            "Learn rate: 5e-05, Batch size: 32\n",
            "Epochs: 20, Sequence length: 80\n",
            "34/34 [==============================] - 9s 170ms/step\n",
            "              precision    recall  f1-score   support\n",
            "\n",
            "         ALT     1.0000    0.9655    0.9825        29\n",
            "         AND     0.9792    0.8868    0.9307        53\n",
            "         APX     1.0000    1.0000    1.0000        13\n",
            "         ART     0.5714    0.8000    0.6667         5\n",
            "         BOT     1.0000    1.0000    1.0000         1\n",
            "         BUT     0.8750    1.0000    0.9333         7\n",
            "         CLO     1.0000    1.0000    1.0000        19\n",
            "         COL     1.0000    1.0000    1.0000        12\n",
            "         CON     0.9931    0.9885    0.9908       871\n",
            "         COO     0.8750    0.8750    0.8750        16\n",
            "         CTC     1.0000    1.0000    1.0000         2\n",
            "         DEF     0.9962    0.9962    0.9962       797\n",
            "         DEG     0.8929    0.8333    0.8621        30\n",
            "         DIS     0.9875    0.9937    0.9906       476\n",
            "         DOM     0.8333    1.0000    0.9091         5\n",
            "         DOW     1.0000    1.0000    1.0000         3\n",
            "         DST     0.9643    1.0000    0.9818        27\n",
            "         EFS     0.6667    0.6667    0.6667         3\n",
            "         EMP     0.9487    1.0000    0.9737        37\n",
            "         ENS     0.9729    0.9685    0.9707       222\n",
            "         EPS     0.9972    1.0000    0.9986       361\n",
            "         EQU     0.7333    0.6111    0.6667        18\n",
            "         EXG     0.9907    0.9907    0.9907       107\n",
            "         EXS     0.9948    0.9796    0.9871       196\n",
            "         EXT     1.0000    1.0000    1.0000        36\n",
            "         FUT     0.9667    0.9355    0.9508        31\n",
            "         GEO     0.9091    0.6667    0.7692        15\n",
            "         GPE     0.9062    1.0000    0.9508        58\n",
            "         GPO     1.0000    1.0000    1.0000        17\n",
            "         GRE     1.0000    1.0000    1.0000         1\n",
            "         GRP     1.0000    0.9091    0.9524        11\n",
            "         HAP     1.0000    1.0000    1.0000         1\n",
            "         HAS     0.9943    1.0000    0.9971       174\n",
            "         INT     0.9722    0.9722    0.9722        36\n",
            "         IST     0.9631    0.9711    0.9671       242\n",
            "         ITJ     1.0000    1.0000    1.0000         1\n",
            "         LES     1.0000    1.0000    1.0000         1\n",
            "         LIT     1.0000    0.9333    0.9655        15\n",
            "         MOR     1.0000    1.0000    1.0000        11\n",
            "         MOY     1.0000    1.0000    1.0000         5\n",
            "         NEC     1.0000    0.9000    0.9474        10\n",
            "         NIL     0.9926    0.9972    0.9949      1069\n",
            "         NOT     1.0000    1.0000    1.0000        94\n",
            "         NOW     0.9917    0.9972    0.9944       358\n",
            "         NTH     0.6667    0.5000    0.5714         4\n",
            "         ORD     1.0000    0.7500    0.8571         4\n",
            "         ORG     0.7857    0.6875    0.7333        16\n",
            "         PER     0.9881    0.9940    0.9911       335\n",
            "         PFT     0.8889    1.0000    0.9412         8\n",
            "         POS     1.0000    1.0000    1.0000        14\n",
            "         PRG     1.0000    0.6667    0.8000         3\n",
            "         PRO     0.9981    0.9944    0.9963       537\n",
            "         PRX     1.0000    1.0000    1.0000        51\n",
            "         PST     0.9926    0.9926    0.9926       136\n",
            "         QUC     0.9899    0.9899    0.9899        99\n",
            "         QUE     1.0000    1.0000    1.0000       152\n",
            "         QUV     1.0000    1.0000    1.0000        29\n",
            "         REF     1.0000    1.0000    1.0000         7\n",
            "         REL     0.9916    0.9958    0.9937       475\n",
            "         ROL     0.9776    0.9924    0.9850       132\n",
            "         SCO     1.0000    1.0000    1.0000         6\n",
            "         SUB     1.0000    1.0000    1.0000        10\n",
            "         TOP     1.0000    0.8750    0.9333         8\n",
            "         UOM     0.9825    1.0000    0.9912        56\n",
            "         XCL     0.0000    1.0000    0.0000         0\n",
            "         YOC     1.0000    0.9412    0.9697        17\n",
            "\n",
            "    accuracy                         0.9876      7595\n",
            "   macro avg     0.9429    0.9427    0.9330      7595\n",
            "weighted avg     0.9877    0.9876    0.9875      7595\n",
            "\n"
          ]
        }
      ],
      "source": [
        "'''Tokenizing train'''\n",
        "x_train = df_train['token'].tolist()\n",
        "y_train = df_train['enc_semtag'].tolist()\n",
        "\n",
        "x_train_adj = []\n",
        "for train_text in x_train:\n",
        "    tt = ' '.join(train_text)\n",
        "    tt = tt.split()\n",
        "    x_train_adj.append(tt)\n",
        "train_tok = tokenize_and_align('roberta-base', x_train_adj, y_train)\n",
        "\n",
        "'''Tokenizing dev'''\n",
        "x_dev = df_dev['token'].tolist()\n",
        "y_dev = df_dev['enc_semtag'].tolist()\n",
        "\n",
        "x_dev_adj = []\n",
        "for dev_text in x_dev:\n",
        "    td = ' '.join(dev_text)\n",
        "    td = td.split()\n",
        "    x_dev_adj.append(td)\n",
        "dev_tok = tokenize_and_align('roberta-base', x_dev_adj, y_dev)\n",
        "\n",
        "'''Tokenizing test'''\n",
        "x_test = df_test['token'].tolist()\n",
        "y_test = df_test['enc_semtag'].tolist()\n",
        "\n",
        "x_test_adj = []\n",
        "for test_text in x_test:\n",
        "    ts = ' '.join(test_text)\n",
        "    ts = ts.split()\n",
        "    x_test_adj.append(ts)\n",
        "test_tok = tokenize_and_align('roberta-base', x_test_adj, y_test)\n",
        "\n",
        "'''Training and evaluating ROBERTA (roberta-base)'''\n",
        "ROBERTA_base = train_model('roberta-base', 5e-5, 32, 20, 80, label_names, train_tok, dev_tok)\n",
        "print(evaluate_model(ROBERTA_base, 'robert-base', 5e-5, 32, 20, 80, label_names, test_tok))"
      ]
    },
    {
      "cell_type": "code",
      "source": [
        "Y_gold2, Y_pred2 = evaluate_custom(ROBERTA_base, 80, label_names, test_tok)"
      ],
      "metadata": {
        "colab": {
          "base_uri": "https://localhost:8080/"
        },
        "id": "1d3fXh2PQZ-c",
        "outputId": "95b239b7-698c-4935-c924-498ab24ddba1"
      },
      "execution_count": null,
      "outputs": [
        {
          "output_type": "stream",
          "name": "stdout",
          "text": [
            "34/34 [==============================] - 6s 187ms/step\n"
          ]
        }
      ]
    },
    {
      "cell_type": "code",
      "source": [
        "'''Sentences which RoBERTa predicted wrong from the test set'''\n",
        "num2 = 0\n",
        "for x2, y2 in zip(Y_gold2, Y_pred2):\n",
        "  num2 += 1\n",
        "  if x2 != y2:\n",
        "    print(num2, x2, y2)"
      ],
      "metadata": {
        "colab": {
          "base_uri": "https://localhost:8080/"
        },
        "id": "kEM0QSYBQiM-",
        "outputId": "6fcd8676-f16d-465b-c5aa-5ed5887507d3"
      },
      "execution_count": null,
      "outputs": [
        {
          "output_type": "stream",
          "name": "stdout",
          "text": [
            "36 ['DEF', 'CON', 'ENS', 'REL', 'DEF', 'CLO', 'NIL'] ['DEF', 'CON', 'EFS', 'REL', 'DEF', 'CLO', 'NIL']\n",
            "39 ['PRO', 'ENS', 'REL', 'DEF', 'CON', 'NIL'] ['PRO', 'ENS', 'REL', 'DEF', 'ROL', 'NIL']\n",
            "42 ['DEF', 'PER', 'EPS', 'DEF', 'NTH', 'NIL'] ['DEF', 'PER', 'EPS', 'DEF', 'CON', 'NIL']\n",
            "50 ['PRO', 'NOW', 'EXG', 'REL', 'HAS', 'ROL', 'NIL'] ['PRO', 'NOW', 'EXG', 'REL', 'HAS', 'CON', 'NIL']\n",
            "86 ['SUB', 'PRO', 'NOW', 'IST', 'NIL', 'SUB', 'DEF', 'PER', 'NOW', 'IST', 'NIL'] ['SUB', 'DST', 'NOW', 'IST', 'NIL', 'SUB', 'DEF', 'PER', 'NOW', 'IST', 'NIL']\n",
            "103 ['DEF', 'PER', 'PST', 'EXS', 'REL', 'DEF', 'DOM', 'EQU', 'MOY', 'YOC', 'NIL'] ['DEF', 'PER', 'PST', 'EXS', 'REL', 'DEF', 'DOM', 'REL', 'MOY', 'DOM', 'NIL']\n",
            "116 ['DEF', 'CON', 'EPS', 'ALT', 'NIL'] ['DEF', 'CON', 'EPS', 'IST', 'NIL']\n",
            "161 ['DIS', 'CON', 'ENS', 'NIL', 'QUC', 'DIS', 'QUC', 'CON', 'NIL'] ['DEF', 'PER', 'ENS', 'NIL', 'QUC', 'DIS', 'QUC', 'CON', 'NIL']\n",
            "173 ['REL', 'DEF', 'YOC', 'NIL', 'DEF', 'CON', 'PST', 'EXS', 'REL', 'DEF', 'GEO', 'NIL'] ['REL', 'DEF', 'YOC', 'NIL', 'DEF', 'CON', 'PST', 'EXS', 'REL', 'DEF', 'GPE', 'NIL']\n",
            "176 ['NIL', 'NOW', 'IST', 'REL', 'DIS', 'CON', 'NIL', 'EXS', 'DIS', 'CON', 'NIL'] ['NIL', 'NOW', 'IST', 'NIL', 'DIS', 'CON', 'NIL', 'EXS', 'DIS', 'CON', 'NIL']\n",
            "177 ['DEF', 'PER', 'PST', 'DIS', 'ROL', 'NIL'] ['DEF', 'PER', 'EPS', 'DIS', 'ROL', 'NIL']\n",
            "187 ['HAS', 'CON', 'EXS', 'REL', 'HAS', 'NIL'] ['HAS', 'CON', 'ENS', 'REL', 'HAS', 'NIL']\n",
            "194 ['PRO', 'NOW', 'IST', 'COO', 'IST', 'NIL'] ['PRO', 'NOW', 'IST', 'AND', 'IST', 'NIL']\n",
            "197 ['DEF', 'PER', 'NOW', 'DEG', 'NIL'] ['DEF', 'PER', 'NOW', 'IST', 'NIL']\n",
            "228 ['REL', 'DIS', 'MOY', 'DOM', 'EQU', 'YOC', 'NIL', 'PRO', 'EPS', 'REL', 'DEF', 'GPO', 'CON', 'ALT', 'NIL'] ['REL', 'DEF', 'MOY', 'DOM', 'NIL', 'YOC', 'NIL', 'PRO', 'EPS', 'REL', 'DEF', 'GPO', 'CON', 'ALT', 'NIL']\n",
            "240 ['DEF', 'CON', 'EPS', 'DEF', 'PER', 'NIL'] ['DEF', 'ART', 'EPS', 'DEF', 'PER', 'NIL']\n",
            "266 ['DEF', 'ORG', 'NOW', 'IST', 'SCO', 'NIL'] ['DEF', 'CON', 'NOW', 'IST', 'SCO', 'EMP']\n",
            "295 ['PRO', 'NEC', 'EXS', 'REL', 'DEF', 'ROL', 'AND', 'FUT', 'DST', 'CON', 'EXS', 'REL', 'NIL'] ['PRO', 'NEC', 'EXS', 'REL', 'DEF', 'ROL', 'COO', 'FUT', 'DST', 'CON', 'EXS', 'REL', 'NIL']\n",
            "300 ['AND', 'ROL', 'ENS', 'ALT', 'DIS', 'ROL', 'NIL'] ['DIS', 'ROL', 'ENS', 'ALT', 'DIS', 'ROL', 'NIL']\n",
            "303 ['DEF', 'CON', 'NEC', 'FUT', 'EXS', 'NIL'] ['DEF', 'CON', 'NEC', 'NIL', 'EXS', 'NIL']\n",
            "318 ['AND', 'CON', 'ENS', 'DIS', 'CON', 'NIL'] ['AND', 'CON', 'EQU', 'DIS', 'CON', 'NIL']\n",
            "323 ['DIS', 'CON', 'GRP', 'PRO', 'ENS', 'DIS', 'ROL', 'NIL', 'ALT', 'NIL', 'PRO', 'NOW', 'IST', 'NIL'] ['DIS', 'CON', 'GRP', 'PRO', 'ENS', 'DIS', 'ROL', 'BUT', 'ALT', 'NIL', 'PRO', 'NOW', 'IST', 'NIL']\n",
            "339 ['DIS', 'CON', 'REL', 'DEF', 'CON', 'REL', 'GPE', 'EPS', 'DIS', 'CON', 'REL', 'DEF', 'PER', 'NIL'] ['DIS', 'CON', 'REL', 'DEF', 'CON', 'REL', 'GPE', 'EPS', 'DIS', 'CON', 'REL', 'DEF', 'GPE', 'NIL']\n",
            "343 ['PRO', 'NOW', 'DIS', 'ROL', 'NIL'] ['PRO', 'ENS', 'DIS', 'ROL', 'NIL']\n",
            "361 ['DEF', 'CON', 'NOW', 'EXG', 'DIS', 'QUC', 'CON', 'NIL'] ['DEF', 'CON', 'NOW', 'EXG', 'DIS', 'QUC', 'UOM', 'NIL']\n",
            "379 ['DEF', 'ART', 'PST', 'EXS', 'REL', 'REL', 'DEF', 'YOC', 'NIL'] ['DEF', 'GEO', 'PST', 'EXS', 'REL', 'REL', 'DEF', 'YOC', 'NIL']\n",
            "383 ['DIS', 'CON', 'ENS', 'REL', 'DIS', 'CON', 'GRP', 'DIS', 'ALT', 'IST', 'CON', 'NIL'] ['DIS', 'CON', 'ENS', 'REL', 'DIS', 'CON', 'GRP', 'DIS', 'ALT', 'DEG', 'CON', 'NIL']\n",
            "398 ['QUE', 'EPS', 'DIS', 'CON', 'QUE'] ['QUE', 'EPS', 'DEF', 'ORG', 'QUE']\n",
            "412 ['PRO', 'FUT', 'EXS', 'REL', 'DEF', 'DOM', 'EQU', 'MOY', 'NIL'] ['PRO', 'FUT', 'EXS', 'REL', 'DEF', 'DOM', 'REL', 'MOY', 'NIL']\n",
            "415 ['PRO', 'EPS', 'DEG', 'DIS', 'QUC', 'UOM', 'NIL'] ['PRO', 'EPS', 'IST', 'DIS', 'QUC', 'UOM', 'NIL']\n",
            "417 ['DIS', 'CON'] ['DIS', 'PER']\n",
            "427 ['PRX', 'CON', 'NOW', 'DIS', 'QUC', 'UOM', 'IST', 'NIL'] ['PRX', 'CON', 'NOW', 'DIS', 'QUC', 'UOM', 'DEG', 'NIL']\n",
            "441 ['PRX', 'CON', 'EFS', 'REL', 'DIS', 'CLO', 'EQU', 'NIL'] ['PRX', 'CON', 'EFS', 'REL', 'DIS', 'CLO', 'IST', 'NIL']\n",
            "442 ['DEF', 'PER', 'NOW', 'PRG', 'EXG', 'PRO', 'DIS', 'CON', 'NIL'] ['DEF', 'PER', 'NOW', 'PFT', 'EXG', 'PRO', 'DIS', 'CON', 'NIL']\n",
            "461 ['AND', 'CON', 'ENS', 'DIS', 'CON', 'BUT', 'AND', 'CON', 'ENS', 'DIS', 'CON', 'NIL'] ['AND', 'CON', 'EQU', 'DIS', 'CON', 'BUT', 'AND', 'CON', 'EQU', 'DIS', 'CON', 'NIL']\n",
            "471 ['DEF', 'CON', 'PST', 'EXT', 'DIS', 'CON', 'REL', 'DEF', 'CON', 'REL', 'DEF', 'YOC', 'NIL'] ['DEF', 'NTH', 'PST', 'EXT', 'DIS', 'CON', 'REL', 'DEF', 'CON', 'REL', 'DEF', 'YOC', 'NIL']\n",
            "511 ['DEF', 'PER', 'PST', 'EXS', 'REL', 'DEF', 'GEO', 'NIL'] ['DEF', 'PER', 'PST', 'EXS', 'REL', 'DIS', 'GPE', 'NIL']\n",
            "559 ['DST', 'CON', 'HAS', 'CON', 'NOW', 'DEG', 'ENS', 'DEF', 'PER', 'NIL'] ['DST', 'CON', 'HAS', 'CON', 'NOW', 'DEG', 'NOW', 'DEF', 'PER', 'NIL']\n",
            "578 ['DEF', 'GEO', 'NOW', 'EXS', 'REL', 'DIS', 'CON', 'NIL'] ['DEF', 'ART', 'NOW', 'EXS', 'REL', 'DIS', 'CON', 'NIL']\n",
            "579 ['DEF', 'CON', 'REL', 'DEF', 'PER', 'EPS', 'REL', 'REL', 'DEF', 'YOC', 'NIL'] ['DEF', 'CON', 'REL', 'DEF', 'PER', 'EPS', 'NIL', 'REL', 'DEF', 'YOC', 'NIL']\n",
            "586 ['HAS', 'ROL', 'FUT', 'NIL', 'NIL', 'EXS', 'PRO', 'NIL'] ['HAS', 'ROL', 'NIL', 'FUT', 'NIL', 'EXS', 'PRO', 'NIL']\n",
            "606 ['PRO', 'GRP', 'ALT', 'PRO', 'NIL', 'NOW', 'NOT', 'IST', 'NIL'] ['PRO', 'NIL', 'ALT', 'PRO', 'NIL', 'NOW', 'NOT', 'IST', 'NIL']\n",
            "609 ['PRO', 'FUT', 'EXS', 'DIS', 'QUC', 'UOM', 'REL', 'HAS', 'EXG', 'NIL'] ['PRO', 'FUT', 'EXS', 'DIS', 'QUC', 'UOM', 'REL', 'HAS', 'CON', 'NIL']\n",
            "612 ['PRX', 'CON', 'POS', 'EXS', 'DIS', 'TOP', 'QUC', 'ROL', 'NIL'] ['PRX', 'CON', 'POS', 'EXS', 'DIS', 'XCL', 'QUC', 'ROL', 'NIL']\n",
            "619 ['NOT', 'REL', 'PRX', 'CON', 'EFS', 'REL', 'DEF', 'GPE', 'NIL'] ['NOT', 'REL', 'PRX', 'CON', 'ENS', 'REL', 'DEF', 'GPE', 'NIL']\n",
            "625 ['DEF', 'ORG', 'EPS', 'DEF', 'ORG', 'NIL'] ['DEF', 'GPE', 'EPS', 'DEF', 'GPE', 'NIL']\n",
            "635 ['DEF', 'CON', 'ENS', 'REL', 'DEF', 'GEO', 'NIL'] ['DEF', 'CON', 'ENS', 'REL', 'DIS', 'CON', 'NIL']\n",
            "676 ['DEF', 'GPO', 'CON', 'REL', 'DEF', 'GPE', 'NOW', 'EXT', 'NIL'] ['DIS', 'GPO', 'CON', 'REL', 'DEF', 'GPE', 'NOW', 'EXT', 'NIL']\n",
            "689 ['SUB', 'PRO', 'NOW', 'NOT', 'IST', 'NIL', 'PRO', 'NOW', 'IST', 'IST', 'NIL'] ['SUB', 'PRO', 'NOW', 'NOT', 'IST', 'NIL', 'PRO', 'NOW', 'INT', 'IST', 'NIL']\n",
            "714 ['DEF', 'NTH', 'ENS', 'DIS', 'GPO', 'CON', 'NIL'] ['DEF', 'CON', 'ENS', 'DIS', 'GPO', 'CON', 'NIL']\n",
            "731 ['PRO', 'ENS', 'DST', 'CON', 'REL', 'PRO', 'NIL'] ['PRO', 'ENS', 'DST', 'CON', 'REL', 'HAS', 'NIL']\n",
            "756 ['DEF', 'CON', 'ENS', 'NOT', 'APX', 'DEF', 'CON', 'NIL'] ['DEF', 'CON', 'NOW', 'NOT', 'APX', 'DEF', 'CON', 'NIL']\n",
            "780 ['DEF', 'PER', 'NOW', 'PFT', 'EXS', 'REL', 'DEF', 'PER', 'REL', 'DIS', 'MOR', 'QUC', 'UOM', 'NIL'] ['DEF', 'PER', 'NOW', 'PFT', 'EXS', 'REL', 'DEF', 'PER', 'REL', 'DIS', 'MOR', 'DIS', 'UOM', 'NIL']\n",
            "790 ['QUE', 'NOW', 'IST', 'REL', 'DEF', 'GPE', 'QUE'] ['QUE', 'NOW', 'EXG', 'REL', 'DEF', 'GPE', 'QUE']\n",
            "794 ['DEF', 'PER', 'EPS', 'DEF', 'CON', 'COO', 'EPS', 'REL', 'DEF', 'CON', 'COO', 'EPS', 'PRO', 'REL', 'DEF', 'CON', 'NIL'] ['DEF', 'PER', 'EPS', 'DEF', 'CON', 'NIL', 'EPS', 'REL', 'DEF', 'CON', 'COO', 'EPS', 'REL', 'REL', 'DEF', 'CON', 'NIL']\n",
            "800 ['DEF', 'CON', 'PST', 'NOT', 'IST', 'NIL'] ['DEF', 'CON', 'PST', 'NOT', 'EXS', 'NIL']\n",
            "810 ['DEF', 'CON', 'NEC', 'EXG', 'NIL'] ['DEF', 'CON', 'NOW', 'EXG', 'NIL']\n",
            "821 ['DEF', 'PER', 'NOW', 'INT', 'DEG', 'NIL', 'NOW', 'NOT', 'PRO', 'QUE'] ['DEF', 'PER', 'NOW', 'INT', 'IST', 'NIL', 'NOW', 'NOT', 'PRO', 'QUE']\n",
            "853 ['DEF', 'ORG', 'NIL'] ['DEF', 'PER', 'NIL']\n",
            "858 ['PRO', 'IST', 'EPS', 'HAS', 'CON', 'NIL'] ['PRO', 'PST', 'EPS', 'HAS', 'CON', 'NIL']\n",
            "875 ['DEF', 'PER', 'ENS', 'DEF', 'CON', 'AND', 'DEF', 'CON', 'NIL'] ['DEF', 'PER', 'ENS', 'DEF', 'CON', 'IST', 'DEF', 'CON', 'NIL']\n",
            "876 ['DEF', 'GEO', 'NOW', 'IST', 'NIL'] ['DEF', 'PER', 'NOW', 'IST', 'NIL']\n",
            "878 ['QUE', 'CON', 'NOW', 'EXS', 'REL', 'DEF', 'CON', 'NIL', 'LIT', 'NIL', 'QUE'] ['QUE', 'CON', 'NOW', 'EXS', 'REL', 'DEF', 'CON', 'NIL', 'ART', 'NIL', 'QUE']\n",
            "879 ['PRO', 'EPS', 'REL', 'DEF', 'CON', 'AND', 'EPS', 'NIL'] ['PRO', 'EPS', 'REL', 'DEF', 'CON', 'COO', 'EPS', 'NIL']\n",
            "886 ['AND', 'POS', 'NOT', 'EXS', 'REF', 'NIL'] ['PRO', 'POS', 'NOT', 'EXS', 'REF', 'NIL']\n",
            "891 ['QUE', 'ENS', 'DEF', 'CON', 'REL', 'DEF', 'ROL', 'REL', 'DEF', 'GPO', 'CON', 'QUE'] ['QUE', 'ENS', 'DEF', 'CON', 'REL', 'DEF', 'ROL', 'REL', 'DEF', 'GPO', 'ORG', 'QUE']\n",
            "898 ['DEF', 'ORG', 'ENS', 'DIS', 'UOM', 'QUC', 'NIL'] ['DEF', 'GPE', 'ENS', 'DIS', 'UOM', 'QUC', 'NIL']\n",
            "918 ['AND', 'CON', 'EXS', 'REL', 'DIS', 'CON', 'NIL'] ['AND', 'CON', 'ENS', 'REL', 'DIS', 'CON', 'NIL']\n",
            "942 ['DIS', 'INT', 'DEG', 'CON', 'EPS', 'HAS', 'CON', 'NIL'] ['DIS', 'INT', 'IST', 'CON', 'EPS', 'HAS', 'CON', 'NIL']\n",
            "964 ['QUE', 'EPS', 'DEF', 'PER', 'EQU', 'DEF', 'GPO', 'ROL', 'QUE'] ['QUE', 'EPS', 'DEF', 'PER', 'REL', 'DEF', 'GPO', 'ROL', 'QUE']\n",
            "966 ['QUE', 'EXS', 'DEF', 'CON', 'REL', 'QUC', 'QUE'] ['QUE', 'ENS', 'DEF', 'CON', 'REL', 'QUC', 'QUE']\n",
            "983 ['DEF', 'PER', 'NOW', 'EXS', 'NIL'] ['DEF', 'PER', 'NOW', 'IST', 'NIL']\n",
            "993 ['PRO', 'NOW', 'DEG', 'DIS', 'QUC', 'NIL'] ['PRO', 'NOW', 'IST', 'DIS', 'QUC', 'NIL']\n",
            "1013 ['PRO', 'NOW', 'INT', 'EXG', 'INT', 'IST', 'NIL'] ['PRO', 'NOW', 'EMP', 'EXG', 'INT', 'IST', 'NIL']\n",
            "1015 ['PRO', 'PST', 'EXS', 'REL', 'DIS', 'CON', 'NIL'] ['PRO', 'PST', 'EXS', 'REL', 'DIS', 'ROL', 'NIL']\n",
            "1032 ['DEF', 'PER', 'NOW', 'EXT', 'DIS', 'IST', 'CON', 'NIL'] ['DEF', 'PER', 'NOW', 'EXT', 'DIS', 'DEG', 'CON', 'NIL']\n",
            "1037 ['DEF', 'GPO', 'ROL', 'EQU', 'DEF', 'PER', 'NIL', 'NOW', 'EXT', 'REL', 'NIL'] ['DEF', 'GPO', 'ROL', 'NIL', 'DEF', 'PER', 'NIL', 'NOW', 'EXT', 'REL', 'NIL']\n",
            "1040 ['DEF', 'GPE', 'ENS', 'DIS', 'CON', 'REL', 'DEF', 'GPE', 'NIL'] ['DEF', 'GPE', 'EQU', 'DIS', 'CON', 'REL', 'DEF', 'GPE', 'NIL']\n",
            "1043 ['DEF', 'PER', 'HAS', 'TOP', 'PER', 'CON', 'ENS', 'NIL', 'DEF', 'ART', 'NIL', 'NIL'] ['DEF', 'PER', 'HAS', 'TOP', 'ORG', 'CON', 'ENS', 'NIL', 'DEF', 'ART', 'NIL', 'NIL']\n",
            "1048 ['PRO', 'EQU', 'DEF', 'PER', 'NIL'] ['PRO', 'ENS', 'DEF', 'PER', 'NIL']\n",
            "1060 ['DIS', 'IST', 'CON', 'PST', 'EXS', 'REL', 'DEF', 'GPE', 'REL', 'DEF', 'DOM', 'MOY', 'YOC', 'NIL', 'DEF', 'ORG', 'EPS', 'DEF', 'TOP', 'CON', 'REL', 'DEF', 'ORG', 'NIL', 'AND', 'EXG', 'ORD', 'REL', 'DEF', 'QUC', 'CON', 'NIL'] ['DIS', 'IST', 'CON', 'PST', 'EXS', 'REL', 'DEF', 'GPE', 'REL', 'DEF', 'DOM', 'MOY', 'YOC', 'NIL', 'DEF', 'ORG', 'EPS', 'DEF', 'TOP', 'CON', 'REL', 'DEF', 'ORG', 'NIL', 'DIS', 'EXG', 'QUC', 'REL', 'DEF', 'QUC', 'CON', 'NIL']\n",
            "1067 ['PRO', 'ENS', 'REL', 'DIS', 'CON', 'NIL'] ['PRO', 'ENS', 'REL', 'DIS', 'ROL', 'NIL']\n"
          ]
        }
      ]
    },
    {
      "cell_type": "code",
      "source": [
        "x_test[688:689]"
      ],
      "metadata": {
        "colab": {
          "base_uri": "https://localhost:8080/"
        },
        "id": "TbXogjbpS6th",
        "outputId": "95727a85-650f-41a7-ba4f-fcd62b0caf51"
      },
      "execution_count": null,
      "outputs": [
        {
          "output_type": "execute_result",
          "data": {
            "text/plain": [
              "[['If',\n",
              "  'he',\n",
              "  'is',\n",
              "  'not',\n",
              "  'rich',\n",
              "  ',',\n",
              "  'he',\n",
              "  'is',\n",
              "  'at~any~rate',\n",
              "  'happy',\n",
              "  '.']]"
            ]
          },
          "metadata": {},
          "execution_count": 56
        }
      ]
    },
    {
      "cell_type": "markdown",
      "source": [
        "#BERT Multilingual (bert-base-multilingual-uncased)"
      ],
      "metadata": {
        "id": "vtRnolwj-E52"
      }
    },
    {
      "cell_type": "code",
      "source": [
        "'''Tokenizing train'''\n",
        "x_train = df_train['token'].tolist()\n",
        "y_train = df_train['enc_semtag'].tolist()\n",
        "\n",
        "x_train_adj = []\n",
        "for train_text in x_train:\n",
        "    tt = ' '.join(train_text)\n",
        "    tt = tt.split()\n",
        "    x_train_adj.append(tt)\n",
        "train_tok = tokenize_and_align('bert-base-multilingual-uncased', x_train_adj, y_train)\n",
        "\n",
        "'''Tokenizing dev'''\n",
        "x_dev = df_dev['token'].tolist()\n",
        "y_dev = df_dev['enc_semtag'].tolist()\n",
        "\n",
        "x_dev_adj = []\n",
        "for dev_text in x_dev:\n",
        "    td = ' '.join(dev_text)\n",
        "    td = td.split()\n",
        "    x_dev_adj.append(td)\n",
        "dev_tok = tokenize_and_align('bert-base-multilingual-uncased', x_dev_adj, y_dev)\n",
        "\n",
        "'''Tokenizing test'''\n",
        "x_test = df_test['token'].tolist()\n",
        "y_test = df_test['enc_semtag'].tolist()\n",
        "\n",
        "x_test_adj = []\n",
        "for test_text in x_test:\n",
        "    ts = ' '.join(test_text)\n",
        "    ts = ts.split()\n",
        "    x_test_adj.append(ts)\n",
        "test_tok = tokenize_and_align('bert-base-multilingual-uncased', x_test_adj, y_test)\n",
        "\n",
        "'''Training and evaluating BERT-multilingual (bert-base-multilingual-uncased)'''\n",
        "BERT_multilingual = train_model('bert-base-multilingual-uncased', 5e-5, 16, 20, 70, label_names, train_tok, dev_tok)\n",
        "print(evaluate_model(BERT_multilingual, 'bert-base-multilingual-uncased', 5e-5, 16, 20, 70, label_names, test_tok))"
      ],
      "metadata": {
        "colab": {
          "base_uri": "https://localhost:8080/"
        },
        "id": "oQ8Wzu3eTIbt",
        "outputId": "09101b74-d89e-4a31-8164-b0fce2025c78"
      },
      "execution_count": 18,
      "outputs": [
        {
          "output_type": "stream",
          "name": "stdout",
          "text": [
            "Training model: bert-base-multilingual-uncased\n",
            "With parameters:\n",
            "Learn rate: 5e-05, Batch size: 16\n",
            "Epochs: 20, Sequence length: 70\n",
            "Epoch 1/20\n",
            "836/836 [==============================] - 297s 281ms/step - loss: 0.3209 - accuracy: 0.9328 - val_loss: 0.1073 - val_accuracy: 0.9737\n",
            "Epoch 2/20\n",
            "836/836 [==============================] - 221s 264ms/step - loss: 0.0835 - accuracy: 0.9805 - val_loss: 0.0828 - val_accuracy: 0.9801\n",
            "Epoch 3/20\n",
            "836/836 [==============================] - 226s 271ms/step - loss: 0.0542 - accuracy: 0.9866 - val_loss: 0.0745 - val_accuracy: 0.9827\n",
            "Epoch 4/20\n",
            "836/836 [==============================] - 221s 264ms/step - loss: 0.0419 - accuracy: 0.9895 - val_loss: 0.0859 - val_accuracy: 0.9810\n",
            "Epoch 5/20\n",
            "836/836 [==============================] - 221s 264ms/step - loss: 0.0356 - accuracy: 0.9910 - val_loss: 0.0802 - val_accuracy: 0.9822\n",
            "Epoch 6/20\n",
            "836/836 [==============================] - 221s 265ms/step - loss: 0.0339 - accuracy: 0.9915 - val_loss: 0.0903 - val_accuracy: 0.9818\n",
            "Testing model: bert-base-multilingual-uncased\n",
            "With parameters:\n",
            "Learn rate: 5e-05, Batch size: 16\n",
            "Epochs: 20, Sequence length: 70\n",
            "53/53 [==============================] - 11s 160ms/step\n",
            "              precision    recall  f1-score   support\n",
            "\n",
            "         ALT     0.9767    1.0000    0.9882        42\n",
            "         AND     0.9412    0.8649    0.9014        74\n",
            "         APX     0.9167    1.0000    0.9565        11\n",
            "         ART     0.7333    0.7857    0.7586        14\n",
            "         BOT     1.0000    1.0000    1.0000         2\n",
            "         BUT     0.7778    1.0000    0.8750         7\n",
            "         CLO     0.9310    1.0000    0.9643        27\n",
            "         COL     0.9655    1.0000    0.9825        28\n",
            "         CON     0.9814    0.9814    0.9814      1343\n",
            "         COO     0.6667    1.0000    0.8000        12\n",
            "         CTC     1.0000    0.5000    0.6667         2\n",
            "         DEF     0.9886    0.9927    0.9907      1228\n",
            "         DEG     0.8529    0.5918    0.6988        49\n",
            "         DIS     0.9845    0.9735    0.9790       718\n",
            "         DOM     1.0000    1.0000    1.0000        11\n",
            "         DOW     1.0000    0.7500    0.8571         4\n",
            "         DST     0.9750    1.0000    0.9873        39\n",
            "         EFS     0.6364    0.8750    0.7368         8\n",
            "         EMP     0.9574    0.9375    0.9474        48\n",
            "         ENS     0.9677    0.9308    0.9489       419\n",
            "         EPS     0.9847    0.9791    0.9819       527\n",
            "         EQU     0.8571    0.8000    0.8276        15\n",
            "         EXG     0.9825    0.9655    0.9739       116\n",
            "         EXS     0.8556    0.9830    0.9149       235\n",
            "         EXT     0.9462    0.8713    0.9072       101\n",
            "         FUT     0.9756    0.9756    0.9756        41\n",
            "         GEO     0.5625    1.0000    0.7200         9\n",
            "         GPE     0.9794    0.9314    0.9548       102\n",
            "         GPO     0.9375    0.9375    0.9375        16\n",
            "         GRP     1.0000    1.0000    1.0000        16\n",
            "         HAP     0.5000    1.0000    0.6667         1\n",
            "         HAS     0.9856    0.9927    0.9891       275\n",
            "         INT     0.9756    0.8889    0.9302        45\n",
            "         IST     0.8962    0.9147    0.9054       387\n",
            "         LES     1.0000    0.7500    0.8571         4\n",
            "         LIT     1.0000    0.8421    0.9143        19\n",
            "         MOR     0.9375    0.9677    0.9524        31\n",
            "         MOY     1.0000    1.0000    1.0000        13\n",
            "         NEC     1.0000    1.0000    1.0000         7\n",
            "         NIL     0.9945    0.9903    0.9924      1648\n",
            "         NOT     0.9811    0.9811    0.9811       159\n",
            "         NOW     0.9712    0.9926    0.9818       543\n",
            "         NTH     0.7500    0.3333    0.4615         9\n",
            "         ORD     1.0000    1.0000    1.0000         4\n",
            "         ORG     0.9310    0.9310    0.9310        29\n",
            "         PER     0.9960    0.9980    0.9970       502\n",
            "         PFT     1.0000    1.0000    1.0000        11\n",
            "         POS     0.9286    1.0000    0.9630        26\n",
            "         PRG     1.0000    0.8000    0.8889         5\n",
            "         PRO     0.9918    0.9929    0.9923       848\n",
            "         PRX     0.9865    0.9865    0.9865        74\n",
            "         PST     1.0000    0.9714    0.9855       175\n",
            "         QUC     0.9929    0.9720    0.9823       143\n",
            "         QUE     0.9949    0.9949    0.9949       196\n",
            "         QUV     0.9500    0.9744    0.9620        39\n",
            "         REF     0.8750    0.8750    0.8750         8\n",
            "         REL     0.9847    0.9958    0.9902       711\n",
            "         ROL     0.9755    0.9431    0.9590       211\n",
            "         SCO     1.0000    1.0000    1.0000         6\n",
            "         SUB     1.0000    0.9000    0.9474        20\n",
            "         TOP     0.8182    0.9000    0.8571        10\n",
            "         UOM     0.9630    0.9873    0.9750        79\n",
            "         YOC     1.0000    1.0000    1.0000        24\n",
            "\n",
            "    accuracy                         0.9756     11526\n",
            "   macro avg     0.9320    0.9286    0.9228     11526\n",
            "weighted avg     0.9764    0.9756    0.9755     11526\n",
            "\n"
          ]
        }
      ]
    },
    {
      "cell_type": "code",
      "source": [
        "Y_gold3, Y_pred3 = evaluate_custom(BERT_multilingual, 70, label_names, test_tok)"
      ],
      "metadata": {
        "colab": {
          "base_uri": "https://localhost:8080/"
        },
        "id": "xZEGHJTDgwo7",
        "outputId": "d0ece1ff-4a51-4a28-931d-00f18942afa7"
      },
      "execution_count": 19,
      "outputs": [
        {
          "output_type": "stream",
          "name": "stdout",
          "text": [
            "53/53 [==============================] - 8s 149ms/step\n"
          ]
        }
      ]
    },
    {
      "cell_type": "code",
      "source": [
        "'''Sentences which BERT multilingual predicted wrong from the test set'''\n",
        "num3 = 0\n",
        "for x3, y3 in zip(Y_gold3, Y_pred3):\n",
        "  num3 += 1\n",
        "  if x3 != y3:\n",
        "    print(num3, x3, y3)"
      ],
      "metadata": {
        "colab": {
          "base_uri": "https://localhost:8080/"
        },
        "id": "pIkgzIjfg6P3",
        "outputId": "f3b4711b-a0ad-4696-ea63-eb2b6d424324"
      },
      "execution_count": 23,
      "outputs": [
        {
          "output_type": "stream",
          "name": "stdout",
          "text": [
            "7 ['PRO', 'PST', 'EXS', 'NIL'] ['PRO', 'PST', 'IST', 'NIL']\n",
            "8 ['DEF', 'CON', 'NOW', 'NOT', 'IST', 'NIL'] ['DEF', 'CON', 'NOW', 'IST', 'IST', 'NIL']\n",
            "15 ['QUE', 'PST', 'DEF', 'YOC', 'CON', 'EXS', 'DIS', 'NIL', 'QUE'] ['QUE', 'PST', 'DEF', 'YOC', 'HAP', 'EXS', 'DIS', 'NIL', 'QUE']\n",
            "25 ['PRO', 'NOW', 'IST', 'EMP'] ['HAS', 'NOW', 'IST', 'EMP']\n",
            "31 ['DEF', 'CON', 'NOW', 'DEG', 'NIL', 'BUT', 'DEF', 'CON', 'NOW', 'NOT', 'INT', 'IST', 'NIL'] ['DEF', 'CON', 'NOW', 'IST', 'NIL', 'BUT', 'DEF', 'CON', 'NOW', 'NOT', 'INT', 'IST', 'NIL']\n",
            "40 ['DEF', 'CON', 'EPS', 'DEF', 'CON', 'NIL'] ['DEF', 'CON', 'ENS', 'DEF', 'CON', 'NIL']\n",
            "41 ['HAS', 'CON', 'PST', 'INT', 'IST', 'NIL'] ['HAS', 'CON', 'PST', 'INT', 'DEG', 'NIL']\n",
            "57 ['PRX', 'CON', 'NOW', 'EXG', 'NIL'] ['PRX', 'POS', 'NOW', 'EXG', 'NIL']\n",
            "59 ['PRO', 'EPS', 'QUV', 'CON', 'REL', 'DEF', 'CON', 'NIL'] ['PRO', 'EPS', 'DIS', 'CON', 'REL', 'DEF', 'CON', 'NIL']\n",
            "63 ['PRO', 'ENS', 'NIL', 'NOT', 'NIL'] ['PRO', 'ENS', 'PRO', 'NOT', 'NIL']\n",
            "66 ['DEF', 'PER', 'ENS', 'DEF', 'CON', 'AND', 'DEF', 'CON', 'NIL'] ['DEF', 'PER', 'ENS', 'DEF', 'CON', 'REL', 'DEF', 'CON', 'NIL']\n",
            "74 ['DIS', 'CON', 'ENS', 'DIS', 'CON', 'REL', 'NIL'] ['DIS', 'CON', 'EXS', 'DIS', 'CON', 'REL', 'NIL']\n",
            "76 ['DIS', 'IST', 'CON', 'REL', 'DEF', 'CON', 'NOW', 'IST', 'NIL'] ['DEF', 'IST', 'CON', 'REL', 'DEF', 'GEO', 'NOW', 'EXS', 'NIL']\n",
            "83 ['ENS', 'DIS', 'CON', 'QUE'] ['EXS', 'DIS', 'CON', 'QUE']\n",
            "103 ['PRO', 'NOW', 'EXT', 'REL', 'DIS', 'ROL', 'NIL'] ['PRO', 'NOW', 'IST', 'REL', 'DIS', 'ROL', 'NIL']\n",
            "105 ['NIL', 'EPS', 'PRO', 'DIS', 'APX', 'QUC', 'UOM', 'NIL', 'EXS', 'PRX', 'CON', 'REL', 'NIL'] ['NIL', 'EPS', 'PRO', 'DIS', 'APX', 'UOM', 'UOM', 'NIL', 'EXS', 'PRX', 'CON', 'REL', 'NIL']\n",
            "114 ['PRO', 'EPS', 'REL', 'DEF', 'ROL', 'HAS', 'NIL'] ['PRO', 'EPS', 'REL', 'DEF', 'CON', 'HAS', 'NIL']\n",
            "139 ['DEF', 'PER', 'PST', 'EXS', 'REL', 'DIS', 'GPO', 'ROL', 'NIL'] ['DEF', 'PER', 'PST', 'EXS', 'REL', 'DEF', 'GPO', 'ROL', 'NIL']\n",
            "146 ['AND', 'POS', 'NOT', 'EXS', 'REL', 'DST', 'CON', 'NIL'] ['PRO', 'POS', 'NOT', 'EXS', 'REL', 'DST', 'CON', 'NIL']\n",
            "160 ['DEF', 'PER', 'ENS', 'DIS', 'QUC', 'PST', 'ROL', 'NIL'] ['DEF', 'PER', 'ENS', 'DIS', 'QUC', 'PST', 'CON', 'NIL']\n",
            "166 ['DEF', 'CON', 'EPS', 'REL', 'DEF', 'CON', 'NTH', 'NIL'] ['DEF', 'CON', 'EPS', 'REL', 'DEF', 'CON', 'GPE', 'NIL']\n",
            "169 ['DST', 'ROL', 'ENS', 'DIS', 'IST', 'ROL', 'NIL'] ['DST', 'ROL', 'ENS', 'DIS', 'IST', 'CON', 'NIL']\n",
            "171 ['PRO', 'NOW', 'INT', 'DIS', 'CON', 'REL', 'IST', 'NIL'] ['PRO', 'NOW', 'INT', 'DIS', 'IST', 'NIL', 'IST', 'NIL']\n",
            "173 ['DEF', 'PER', 'PST', 'REL', 'DEF', 'CON', 'EXT', 'NIL'] ['DEF', 'PER', 'PST', 'REL', 'DEF', 'CON', 'EXS', 'NIL']\n",
            "183 ['DEF', 'CON', 'ENS', 'AND', 'DEF', 'CON', 'ENS', 'AND', 'DEF', 'CON', 'ENS', 'AND', 'DEF', 'CON', 'ENS', 'AND', 'DEF', 'CON', 'ENS', 'NIL'] ['DEF', 'CON', 'ENS', 'COO', 'DEF', 'CON', 'ENS', 'COO', 'DEF', 'CON', 'ENS', 'COO', 'DEF', 'CON', 'ENS', 'COO', 'DEF', 'CON', 'ENS', 'NIL']\n",
            "202 ['DEF', 'ALT', 'CON', 'ENS', 'PRO', 'LIT', 'NIL'] ['DEF', 'ALT', 'CON', 'ENS', 'HAS', 'CON', 'NIL']\n",
            "214 ['PRO', 'ENS', 'HAS', 'CON', 'REL', 'DIS', 'CLO', 'NIL'] ['PRO', 'ENS', 'HAS', 'CON', 'REL', 'DEF', 'CLO', 'NIL']\n",
            "215 ['PRO', 'NOW', 'DIS', 'ROL', 'NIL'] ['PRO', 'ENS', 'DIS', 'ROL', 'NIL']\n",
            "231 ['PRO', 'NOW', 'INT', 'IST', 'NIL'] ['PRO', 'NOW', 'AND', 'IST', 'NIL']\n",
            "236 ['DEF', 'NTH', 'CON', 'PST', 'IST', 'NIL'] ['DEF', 'CON', 'CON', 'PST', 'IST', 'NIL']\n",
            "251 ['PRO', 'PST', 'EPS', 'DIS', 'CON', 'NIL'] ['PRO', 'PST', 'EXS', 'DIS', 'CON', 'NIL']\n",
            "253 ['DEF', 'PER', 'PST', 'DIS', 'ROL', 'NIL'] ['DEF', 'PER', 'EPS', 'DIS', 'ROL', 'NIL']\n",
            "254 ['QUE', 'ENS', 'HAS', 'TOP', 'IST', 'CON', 'REL', 'DEF', 'GPE', 'QUE'] ['QUE', 'ENS', 'HAS', 'TOP', 'TOP', 'CON', 'REL', 'DEF', 'GPE', 'QUE']\n",
            "257 ['PRO', 'ENS', 'DIS', 'ROL', 'NIL'] ['PRO', 'NOW', 'DIS', 'ROL', 'NIL']\n",
            "273 ['PRO', 'ENS', 'CON', 'NIL'] ['PRO', 'NOW', 'EXT', 'NIL']\n",
            "275 ['DEF', 'PER', 'PST', 'EXS', 'REL', 'DIS', 'CON', 'SUB', 'HAS', 'ROL', 'PST', 'INT', 'IST', 'NIL'] ['DEF', 'PER', 'PST', 'EXS', 'REL', 'DIS', 'CON', 'SUB', 'HAS', 'ROL', 'PST', 'INT', 'DEG', 'NIL']\n",
            "282 ['PRO', 'PST', 'EXG', 'REL', 'DEF', 'CON', 'NIL'] ['PRO', 'EPS', 'EXS', 'REL', 'DEF', 'CON', 'NIL']\n",
            "288 ['DEF', 'PER', 'EPS', 'DIS', 'EXT', 'CON', 'REL', 'DEF', 'CON', 'NIL'] ['DEF', 'PER', 'EPS', 'DIS', 'EXS', 'CON', 'REL', 'DEF', 'CON', 'NIL']\n",
            "300 ['DEF', 'PER', 'PST', 'EXS', 'REL', 'DEF', 'GPE', 'NIL'] ['DEF', 'PER', 'PST', 'EXS', 'REL', 'DEF', 'GEO', 'NIL']\n",
            "302 ['DIS', 'CON', 'ENS', 'NOT', 'DIS', 'CON', 'NIL', 'PRO', 'ENS', 'DIS', 'CON', 'NIL'] ['DIS', 'CON', 'ENS', 'NOT', 'DIS', 'CON', 'BUT', 'PRO', 'ENS', 'DIS', 'CON', 'NIL']\n",
            "325 ['NOW', 'PFT', 'IST', 'NIL'] ['NOW', 'PFT', 'EXS', 'NIL']\n",
            "335 ['DEF', 'PER', 'ENS', 'DIS', 'CON', 'NIL'] ['DEF', 'PER', 'NOW', 'DIS', 'IST', 'NIL']\n",
            "336 ['DEF', 'DEG', 'CON', 'EPS', 'DEF', 'IST', 'CON', 'NIL'] ['DEF', 'CON', 'EPS', 'EPS', 'DEF', 'IST', 'CON', 'NIL']\n",
            "344 ['AND', 'CON', 'ENS', 'DIS', 'CON', 'NIL'] ['AND', 'CON', 'EXS', 'DIS', 'CON', 'NIL']\n",
            "347 ['PRO', 'NOW', 'QUC', 'UOM', 'MOR', 'REL', 'PRO', 'NIL'] ['PRO', 'NOW', 'DIS', 'UOM', 'MOR', 'REL', 'PRO', 'NIL']\n",
            "353 ['PRO', 'EPS', 'DEF', 'ROL', 'DEF', 'CON', 'NIL'] ['PRO', 'EPS', 'DEF', 'CON', 'DEF', 'CON', 'NIL']\n",
            "355 ['DEF', 'ROL', 'PER', 'EPS', 'DIS', 'CON', 'REL', 'DIS', 'ROL', 'NIL'] ['DEF', 'ROL', 'PER', 'EPS', 'DIS', 'CON', 'REL', 'DIS', 'CON', 'NIL']\n",
            "373 ['DIS', 'IST', 'CON', 'PST', 'EXS', 'REL', 'DEF', 'GPE', 'REL', 'DEF', 'DOM', 'MOY', 'YOC', 'NIL', 'DEF', 'CON', 'ORG', 'REL', 'ORG', 'NIL', 'REL', 'DEF', 'PER', 'PST', 'EXS', 'REL', 'EXG', 'DEF', 'IST', 'ORG', 'CON', 'REL', 'DEF', 'PER', 'NIL'] ['DEF', 'IST', 'CON', 'PST', 'EXS', 'REL', 'DEF', 'GPE', 'REL', 'DEF', 'DOM', 'MOY', 'YOC', 'REL', 'DEF', 'IST', 'ORG', 'REL', 'ORG', 'NIL', 'REL', 'DEF', 'PER', 'PST', 'EXS', 'NIL', 'EXG', 'DEF', 'IST', 'ORG', 'CON', 'REL', 'DEF', 'PER', 'NIL']\n",
            "380 ['DEF', 'PER', 'NOW', 'NOT', 'IST', 'NIL', 'PRO', 'NOW', 'IST', 'IST', 'NIL'] ['DEF', 'PER', 'NOW', 'NOT', 'IST', 'NIL', 'PRO', 'NOW', 'NOT', 'IST', 'NIL']\n",
            "389 ['QUE', 'CON', 'NOW', 'DEF', 'ART', 'IST', 'REL', 'QUE'] ['QUE', 'CON', 'NOW', 'DEF', 'GEO', 'IST', 'REL', 'QUE']\n",
            "404 ['DEF', 'PER', 'EPS', 'DIS', 'CON', 'REL', 'DEF', 'GPE', 'NIL'] ['DEF', 'PER', 'EPS', 'DIS', 'CON', 'REL', 'DEF', 'PER', 'NIL']\n",
            "406 ['PRO', 'EPS', 'REL', 'DEF', 'DOM', 'EQU', 'MOY', 'NIL'] ['PRO', 'EPS', 'REL', 'DEF', 'DOM', 'REL', 'MOY', 'NIL']\n",
            "407 ['HAS', 'QUC', 'UOM', 'DEG', 'ROL', 'ENS', 'NIL'] ['HAS', 'QUC', 'UOM', 'IST', 'ROL', 'ENS', 'NIL']\n",
            "414 ['DEF', 'PER', 'EPS', 'DIS', 'CON', 'NIL'] ['DEF', 'PER', 'ENS', 'DIS', 'CON', 'NIL']\n",
            "418 ['IST', 'EPS', 'DEF', 'CON', 'REL', 'NIL'] ['CON', 'EPS', 'DEF', 'CON', 'REL', 'NIL']\n",
            "440 ['DEF', 'PER', 'EPS', 'NIL', 'EXS', 'DEF', 'CON', 'NIL'] ['DEF', 'PER', 'EPS', 'REL', 'EXS', 'DEF', 'CON', 'NIL']\n",
            "443 ['PRO', 'NOW', 'DIS', 'CON', 'REL', 'DEF', 'CTC', 'EXT', 'NIL'] ['PRO', 'NOW', 'DIS', 'CON', 'REL', 'DEF', 'ORG', 'EXT', 'NIL']\n",
            "460 ['DEF', 'PER', 'ENS', 'REL', 'DEF', 'GPE', 'NIL'] ['DEF', 'PER', 'EFS', 'REL', 'DEF', 'GPE', 'NIL']\n",
            "463 ['AND', 'ENS', 'DIS', 'CON', 'NIL'] ['AND', 'EXS', 'DIS', 'CON', 'NIL']\n",
            "464 ['DEF', 'ROL', 'PER', 'ENS', 'DIS', 'IST', 'ROL', 'NIL'] ['DEF', 'ROL', 'PER', 'ENS', 'DIS', 'CON', 'CON', 'NIL']\n",
            "468 ['DEF', 'ROL', 'PER', 'ENS', 'DEF', 'ORG'] ['DEF', 'ROL', 'PER', 'EXS', 'DEF', 'ORG']\n",
            "473 ['PRO', 'NOW', 'IST', 'IST', 'NIL'] ['PRO', 'NOW', 'INT', 'IST', 'NIL']\n",
            "478 ['HAS', 'CON', 'ENS', 'REL', 'DEF', 'IST', 'CON', 'REL', 'DEF', 'GEO', 'NIL'] ['HAS', 'CON', 'ENS', 'REL', 'DEF', 'CON', 'CON', 'REL', 'DEF', 'GEO', 'NIL']\n",
            "479 ['DEF', 'PER', 'NOW', 'IST', 'NIL'] ['DEF', 'PER', 'NOW', 'EXS', 'NIL']\n",
            "483 ['DST', 'CON', 'ENS', 'REL', 'DEF', 'NTH', 'CON', 'NIL'] ['DST', 'CON', 'ENS', 'REL', 'DEF', 'PER', 'CON', 'NIL']\n",
            "484 ['NIL', 'ENS', 'ALT', 'NIL'] ['NIL', 'ENS', 'ALT', 'EMP']\n",
            "501 ['PRO', 'NOW', 'DIS', 'ROL', 'NIL'] ['PRO', 'ENS', 'DIS', 'ROL', 'NIL']\n",
            "505 ['DST', 'CON', 'NEC', 'NIL', 'NIL', 'EXS', 'NIL'] ['DST', 'CON', 'NEC', 'NIL', 'NOW', 'EXS', 'NIL']\n",
            "508 ['PRO', 'PST', 'INT', 'IST', 'NIL'] ['PRO', 'PST', 'IST', 'EXS', 'NIL']\n",
            "510 ['DEF', 'PER', 'NOW', 'PFT', 'EXS', 'DIS', 'CON', 'NIL'] ['DEF', 'PER', 'NOW', 'PFT', 'EXS', 'DIS', 'ROL', 'NIL']\n",
            "511 ['DEF', 'PER', 'NOW', 'INT', 'DEG', 'NIL'] ['DEF', 'PER', 'NOW', 'INT', 'IST', 'NIL']\n",
            "520 ['AND', 'CON', 'EXS', 'DIS', 'CON', 'NIL'] ['AND', 'CON', 'ENS', 'DIS', 'CON', 'NIL']\n",
            "528 ['PRO', 'EPS', 'HAS', 'CON', 'REL', 'DEF', 'GPE', 'NIL'] ['PRO', 'EPS', 'HAS', 'CON', 'REL', 'DEF', 'GEO', 'NIL']\n",
            "542 ['HAS', 'ROL', 'NOW', 'IST', 'REL', 'DIS', 'CON', 'NIL'] ['HAS', 'ROL', 'NOW', 'IST', 'REL', 'DEF', 'ART', 'NIL']\n",
            "547 ['PRO', 'AND', 'EXS', 'DIS', 'REL', 'DEF', 'ROL', 'NIL'] ['PRO', 'AND', 'EXS', 'DIS', 'REL', 'DEF', 'CON', 'NIL']\n",
            "548 ['ALT', 'DEF', 'QUC', 'ROL', 'PST', 'IST', 'NIL'] ['ALT', 'DEF', 'QUC', 'ROL', 'PST', 'EXS', 'NIL']\n",
            "550 ['PRO', 'FUT', 'DEF', 'CON', 'NOT', 'ALT', 'EXS', 'NIL'] ['PRO', 'POS', 'DEF', 'CON', 'NOT', 'ALT', 'EXS', 'NIL']\n",
            "554 ['PRX', 'FUT', 'DIS', 'APX', 'QUC', 'UOM', 'EXS', 'NIL'] ['PRO', 'FUT', 'DIS', 'APX', 'QUC', 'UOM', 'EXS', 'NIL']\n",
            "564 ['PRO', 'ENS', 'DIS', 'CON', 'REL', 'NIL'] ['PRO', 'EPS', 'DIS', 'CON', 'REL', 'NIL']\n",
            "565 ['PRO', 'EPS', 'QUC', 'ROL', 'NIL'] ['PRO', 'EPS', 'DIS', 'ROL', 'NIL']\n",
            "571 ['DEF', 'CON', 'NOW', 'IST', 'DIS', 'DEG', 'CON', 'NIL'] ['DEF', 'CON', 'NOW', 'IST', 'DIS', 'IST', 'CON', 'NIL']\n",
            "578 ['PRO', 'ENS', 'NIL', 'EXS', 'REL', 'DIS', 'CON', 'NIL', 'NOT', 'NIL', 'REL', 'DIS', 'CON', 'NIL'] ['PRO', 'ENS', 'NIL', 'EXS', 'REL', 'DIS', 'CON', 'NIL', 'NOT', 'REL', 'REL', 'DIS', 'CON', 'NIL']\n",
            "581 ['DEF', 'QUV', 'REL', 'CON', 'REL', 'DEF', 'GPE', 'NOW', 'IST', 'NIL'] ['DIS', 'QUV', 'REL', 'CON', 'REL', 'DEF', 'GPE', 'NOW', 'IST', 'NIL']\n",
            "592 ['DEF', 'CON', 'REL', 'DIS', 'DOW', 'FUT', 'IST', 'NIL'] ['DEF', 'CON', 'REL', 'DIS', 'CON', 'FUT', 'IST', 'NIL']\n",
            "595 ['DEF', 'CON', 'REL', 'DIS', 'EXT', 'CON', 'REL', 'PRX', 'CON', 'NOW', 'IST', 'REL', 'DEF', 'CTC', 'NIL'] ['DEF', 'CON', 'REL', 'DIS', 'IST', 'CON', 'REL', 'PRX', 'CON', 'NOW', 'EXS', 'REL', 'DEF', 'CTC', 'NIL']\n",
            "596 ['QUE', 'CON', 'PST', 'DEF', 'CON', 'NIL', 'NTH', 'NIL', 'EXS', 'REL', 'QUE'] ['QUE', 'CON', 'PST', 'DEF', 'CON', 'NIL', 'ART', 'NIL', 'EXS', 'REL', 'QUE']\n",
            "610 ['PRO', 'PST', 'REL', 'DIS', 'CON', 'EXT', 'NIL'] ['PRO', 'PST', 'REL', 'DIS', 'CON', 'EXS', 'NIL']\n",
            "620 ['PRO', 'EPS', 'DEF', 'PER', 'NIL'] ['PRO', 'ENS', 'DEF', 'PER', 'NIL']\n",
            "621 ['DIS', 'DEG', 'CON', 'NOW', 'EXS', 'REL', 'DIS', 'DEG', 'CON', 'NIL'] ['AND', 'DEG', 'CON', 'NOW', 'EXS', 'REL', 'DIS', 'DEG', 'CON', 'NIL']\n",
            "624 ['PRO', 'ENS', 'AND', 'NIL'] ['PRO', 'EPS', 'AND', 'NIL']\n",
            "627 ['DEF', 'CON', 'NOW', 'IST', 'NIL'] ['DEF', 'CON', 'NOW', 'MOR', 'NIL']\n",
            "629 ['NOW', 'DEG', 'QUE'] ['NOW', 'IST', 'QUE']\n",
            "632 ['DEF', 'CON', 'ENS', 'DIS', 'QUC', 'UOM', 'NIL'] ['PRO', 'PRO', 'ENS', 'DIS', 'QUC', 'UOM', 'NIL']\n",
            "635 ['PRO', 'IST', 'ENS', 'DIS', 'CON', 'NIL'] ['PRO', 'QUV', 'ENS', 'DIS', 'CON', 'NIL']\n",
            "638 ['PRX', 'CON', 'ENS', 'REL', 'DIS', 'CON', 'AND', 'DIS', 'COL', 'CON', 'NIL'] ['PRX', 'CON', 'ENS', 'REL', 'DIS', 'CON', 'REL', 'DIS', 'COL', 'CON', 'NIL']\n",
            "640 ['PRO', 'NIL', 'NOW', 'NOT', 'EXT', 'REL', 'DIS', 'CON', 'NIL'] ['PRO', 'NOT', 'NOW', 'ALT', 'EXT', 'REL', 'DIS', 'CON', 'NIL']\n",
            "657 ['DEF', 'PER', 'PST', 'EXT', 'REL', 'DEF', 'GPE', 'NIL'] ['DEF', 'PER', 'PST', 'EXS', 'REL', 'DEF', 'GPE', 'NIL']\n",
            "663 ['DEF', 'PER', 'EPS', 'DIS', 'PER', 'AND', 'EXG', 'NIL'] ['DEF', 'PER', 'EPS', 'DEF', 'PER', 'DIS', 'EXG', 'NIL']\n",
            "665 ['PRO', 'ENS', 'REL', 'DEF', 'GPE', 'NIL'] ['PRO', 'EFS', 'REL', 'DEF', 'GPE', 'NIL']\n",
            "687 ['EMP', 'DIS', 'ROL', 'EMP'] ['EMP', 'DIS', 'CON', 'EMP']\n",
            "689 ['DEF', 'CON', 'CON', 'ENS', 'QUC', 'NIL'] ['DEF', 'IST', 'CON', 'EXS', 'QUC', 'NIL']\n",
            "691 ['DEF', 'PER', 'EPS', 'DEF', 'DIS', 'CON', 'NIL'] ['DEF', 'PER', 'EPS', 'REL', 'DIS', 'CON', 'NIL']\n",
            "694 ['DEF', 'CON', 'PST', 'IST', 'REL', 'HAS', 'EMP', 'CON', 'NIL'] ['DEF', 'CON', 'PST', 'IST', 'REL', 'HAS', 'REF', 'CON', 'NIL']\n",
            "702 ['QUE', 'ENS', 'DEF', 'IST', 'CON', 'REL', 'DIS', 'CON', 'QUE'] ['QUE', 'ENS', 'DEF', 'IST', 'CON', 'REL', 'DEF', 'CON', 'QUE']\n",
            "705 ['PRO', 'NOW', 'DEF', 'CON', 'EXS', 'NIL'] ['PRO', 'NOW', 'DEF', 'IST', 'EXS', 'NIL']\n",
            "713 ['PRO', 'PST', 'DEF', 'DOM', 'MOY', 'YOC', 'EXS', 'NIL'] ['PRO', 'PST', 'REL', 'DOM', 'MOY', 'YOC', 'EXS', 'NIL']\n",
            "714 ['DIS', 'CON', 'EPS', 'DEF', 'CON', 'REL', 'DIS', 'QUC', 'UOM', 'NIL'] ['DIS', 'CON', 'EPS', 'PRX', 'CON', 'REL', 'DIS', 'QUC', 'UOM', 'NIL']\n",
            "717 ['HAS', 'ROL', 'ENS', 'REL', 'DIS', 'DEG', 'CON', 'NIL'] ['HAS', 'ROL', 'ENS', 'REL', 'DIS', 'IST', 'CON', 'NIL']\n",
            "728 ['PRO', 'ENS', 'NOT', 'DIS', 'ROL', 'EMP'] ['PRO', 'NOW', 'NOT', 'DIS', 'ROL', 'EMP']\n",
            "735 ['DEF', 'PER', 'EPS', 'REL', 'DEF', 'DEG', 'CON', 'NIL'] ['DEF', 'PER', 'EPS', 'REL', 'DEF', 'IST', 'CON', 'NIL']\n",
            "740 ['DST', 'CON', 'NOW', 'EXT', 'DIS', 'APX', 'QUC', 'UOM', 'NIL'] ['DST', 'CON', 'NOW', 'EXS', 'DIS', 'APX', 'QUC', 'UOM', 'NIL']\n",
            "742 ['DEF', 'CON', 'NOW', 'INT', 'DEG', 'NIL'] ['DEF', 'CON', 'NOW', 'INT', 'IST', 'NIL']\n",
            "743 ['PRO', 'NOW', 'EXG', 'REL', 'SUB', 'PRO', 'POS', 'EXS', 'REL', 'DEF', 'GPE', 'NIL'] ['PRO', 'NOW', 'EXG', 'REL', 'REL', 'PRO', 'POS', 'EXS', 'REL', 'DEF', 'GPE', 'NIL']\n",
            "750 ['QUE', 'NOW', 'DEF', 'PER', 'HAS', 'CON', 'QUE'] ['QUE', 'NOW', 'DEF', 'PER', 'NIL', 'IST', 'QUE']\n",
            "755 ['DEF', 'CON', 'NOW', 'PFT', 'EXT', 'REL', 'DIS', 'CON', 'NIL'] ['DEF', 'CON', 'NOW', 'PFT', 'EXS', 'REL', 'DIS', 'CON', 'NIL']\n",
            "757 ['DEF', 'PER', 'PST', 'REL', 'DIS', 'CON', 'EXT', 'NIL'] ['DEF', 'PER', 'PST', 'REL', 'DIS', 'CON', 'EXS', 'NIL']\n",
            "758 ['PRO', 'PST', 'EQU', 'IST', 'REL', 'DIS', 'CON', 'NIL'] ['PRO', 'PST', 'EQU', 'IST', 'REL', 'DIS', 'ROL', 'NIL']\n",
            "762 ['DEF', 'CON', 'PST', 'IST', 'REL', 'DIS', 'CON', 'NIL'] ['DEF', 'CON', 'PST', 'EXS', 'REL', 'DIS', 'CON', 'NIL']\n",
            "775 ['HAS', 'CON', 'EPS', 'REL', 'DEF', 'CLO', 'AND', 'EPS', 'REL', 'DEF', 'CLO', 'NIL'] ['HAS', 'CON', 'EPS', 'REL', 'DEF', 'CLO', 'COO', 'EPS', 'REL', 'DEF', 'CLO', 'NIL']\n",
            "780 ['DEF', 'PER', 'NIL', 'NOW', 'EXT', 'NOT', 'NIL'] ['DEF', 'PER', 'NOT', 'NOW', 'EXT', 'DIS', 'NIL']\n",
            "787 ['DEF', 'PER', 'NOW', 'NOW', 'EXS', 'NIL'] ['DEF', 'PER', 'NOW', 'NOW', 'EXG', 'NIL']\n",
            "792 ['HAS', 'CON', 'EPS', 'DEF', 'CON', 'NIL'] ['HAS', 'CON', 'ENS', 'DEF', 'CON', 'NIL']\n",
            "793 ['PRO', 'EPS', 'REL', 'DEF', 'GPE', 'REL', 'DEF', 'YOC', 'REL', 'DEF', 'DEG', 'CON', 'REL', 'GPE', 'NIL'] ['PRO', 'EPS', 'REL', 'DEF', 'GPE', 'REL', 'DEF', 'YOC', 'REL', 'DEF', 'IST', 'CON', 'REL', 'GPE', 'NIL']\n",
            "796 ['DEF', 'PER', 'EPS', 'DIS', 'QUC', 'ROL', 'IST', 'NIL'] ['DEF', 'CON', 'EPS', 'DIS', 'QUC', 'ROL', 'IST', 'NIL']\n",
            "803 ['PRO', 'EPS', 'REL', 'DEF', 'CLO', 'NIL'] ['NIL', 'EPS', 'REL', 'DEF', 'CLO', 'NIL']\n",
            "806 ['PRO', 'NOW', 'IST', 'SUB', 'DEF', 'CON', 'IST', 'NOW', 'NIL'] ['PRO', 'NOW', 'IST', 'SUB', 'DEF', 'CON', 'EXS', 'NOW', 'NIL']\n",
            "807 ['PRO', 'ENS', 'DIS', 'QUC', 'ROL', 'MOR', 'NIL'] ['PRO', 'ENS', 'DIS', 'QUC', 'ROL', 'TOP', 'NIL']\n",
            "818 ['DIS', 'CON', 'ENS', 'DIS', 'IST', 'CON', 'NIL', 'ALT', 'NIL', 'PRO', 'NOW', 'NOT', 'EXS', 'DEF', 'CON', 'NIL'] ['DIS', 'CON', 'ENS', 'DIS', 'IST', 'CON', 'NIL', 'ALT', 'NIL', 'NIL', 'NOW', 'NOT', 'EXS', 'DEF', 'CON', 'NIL']\n",
            "869 ['HAS', 'CON', 'NOW', 'EQU', 'IST', 'REL', 'DEF', 'CON', 'REL', 'DEF', 'ART', 'NIL'] ['HAS', 'CON', 'NOW', 'EQU', 'IST', 'REL', 'DEF', 'CON', 'REL', 'DEF', 'NTH', 'NIL']\n",
            "882 ['QUE', 'CON', 'EPS', 'DEF', 'CON', 'NIL', 'LIT', 'NIL', 'QUE'] ['QUE', 'CON', 'EPS', 'DEF', 'CON', 'NIL', 'ART', 'NIL', 'QUE']\n",
            "885 ['PRO', 'NOW', 'NOT', 'EMP', 'IST', 'NIL'] ['PRO', 'NOW', 'NOT', 'DST', 'IST', 'NIL']\n",
            "887 ['PRO', 'ENS', 'DIS', 'ROL', 'NIL'] ['PRO', 'NOW', 'DIS', 'ROL', 'NIL']\n",
            "893 ['DEF', 'PER', 'NOW', 'EXT', 'NIL'] ['DEF', 'PER', 'NOW', 'IST', 'NIL']\n",
            "897 ['DEF', 'CON', 'PST', 'EXT', 'IST', 'REL', 'DEF', 'CON', 'NIL'] ['DEF', 'CON', 'PST', 'EXS', 'IST', 'REL', 'DEF', 'CON', 'NIL']\n",
            "920 ['DEF', 'PER', 'ENS', 'NOT', 'DIS', 'IST', 'ROL', 'NIL', 'ENS', 'PRO', 'QUE'] ['DEF', 'PER', 'ENS', 'NOT', 'DIS', 'IST', 'ROL', 'NIL', 'NOW', 'PRO', 'QUE']\n",
            "937 ['PRO', 'NOW', 'EXG', 'DIS', 'CON', 'NIL'] ['PRO', 'NOW', 'EXG', 'DEF', 'CON', 'NIL']\n",
            "939 ['PRO', 'ENS', 'REL', 'DIS', 'CON', 'REL', 'DIS', 'CON', 'NIL'] ['PRO', 'ENS', 'REL', 'DEF', 'CLO', 'REL', 'DEF', 'CLO', 'NIL']\n",
            "969 ['PRO', 'EPS', 'DEF', 'PER', 'NIL'] ['PRO', 'ENS', 'DEF', 'PER', 'NIL']\n",
            "988 ['PRO', 'FUT', 'EXS', 'REL', 'DEF', 'DOM', 'EQU', 'MOY', 'NIL'] ['PRO', 'FUT', 'EXS', 'REL', 'DEF', 'DOM', 'REL', 'MOY', 'NIL']\n",
            "995 ['DEF', 'CON', 'NOW', 'DIS', 'QUC', 'UOM', 'IST', 'NIL'] ['DEF', 'CON', 'NOW', 'DIS', 'QUC', 'UOM', 'DEG', 'NIL']\n",
            "999 ['PRO', 'ENS', 'DIS', 'ROL', 'REL', 'DEF', 'PER', 'GRP', 'DEF', 'PER', 'NIL', 'NIL'] ['PRO', 'ENS', 'DIS', 'ROL', 'REL', 'DEF', 'PER', 'GRP', 'DEF', 'PER', 'HAS', 'NIL']\n",
            "1001 ['PRO', 'ENS', 'DIS', 'DEG', 'CON', 'GRP', 'DIS', 'DEG', 'CON', 'NIL'] ['PRO', 'ENS', 'DIS', 'IST', 'CON', 'GRP', 'DIS', 'IST', 'CON', 'NIL']\n",
            "1007 ['DEF', 'PER', 'EPS', 'DEF', 'ROL', 'COO', 'EPS', 'PRO', 'NIL'] ['DEF', 'PER', 'EPS', 'DEF', 'CON', 'COO', 'EPS', 'PRO', 'NIL']\n",
            "1010 ['DEF', 'CON', 'NOW', 'DIS', 'QUC', 'UOM', 'DEG', 'NIL'] ['DEF', 'CON', 'NOW', 'DIS', 'QUC', 'UOM', 'IST', 'NIL']\n",
            "1016 ['QUE', 'REF', 'ENS', 'DEF', 'GPE', 'QUE'] ['QUE', 'NIL', 'ENS', 'DEF', 'GEO', 'QUE']\n",
            "1019 ['PRO', 'CON', 'NIL'] ['PRO', 'ENS', 'NIL']\n",
            "1025 ['PRO', 'POS', 'HAS', 'IST', 'CON', 'NOT', 'EXS', 'NIL'] ['PRO', 'POS', 'DEF', 'IST', 'CON', 'NOT', 'EXS', 'NIL']\n",
            "1028 ['PRO', 'EPS', 'REL', 'DEF', 'CLO', 'REL', 'NIL'] ['PRO', 'EFS', 'REL', 'DEF', 'CLO', 'REL', 'NIL']\n",
            "1033 ['DEF', 'GPE', 'ENS', 'NOT', 'DIS', 'CON', 'NIL', 'PRO', 'ENS', 'DIS', 'CON', 'NIL'] ['DEF', 'GPE', 'ENS', 'NOT', 'DIS', 'CON', 'BUT', 'PRO', 'ENS', 'DIS', 'CON', 'NIL']\n",
            "1041 ['DEF', 'PER', 'ENS', 'DEF', 'GPE', 'NIL'] ['DEF', 'PER', 'ENS', 'DEF', 'GEO', 'NIL']\n",
            "1044 ['AND', 'ENS', 'DIS', 'CON', 'NIL'] ['AND', 'EXS', 'DIS', 'CON', 'NIL']\n",
            "1053 ['DEF', 'PER', 'ENS', 'DIS', 'ROL', 'NIL', 'ENS', 'NOT', 'PRO', 'QUE'] ['DEF', 'PER', 'ENS', 'DIS', 'ROL', 'NIL', 'NOW', 'NOT', 'PRO', 'QUE']\n",
            "1060 ['DEF', 'PER', 'NOW', 'EXG', 'REL', 'DEF', 'CON', 'NIL'] ['DEF', 'PER', 'NOW', 'EXG', 'EXG', 'DEF', 'CON', 'NIL']\n",
            "1061 ['QUE', 'IST', 'PST', 'DEF', 'PER', 'QUE'] ['QUE', 'DEG', 'PST', 'DEF', 'PER', 'QUE']\n",
            "1069 ['DEF', 'PER', 'PST', 'EXT', 'REL', 'DIS', 'CON', 'NIL'] ['DEF', 'PER', 'PST', 'EXS', 'REL', 'DIS', 'CON', 'NIL']\n",
            "1072 ['PRO', 'EPS', 'DEF', 'CON', 'NIL'] ['PRO', 'EPS', 'DEF', 'ROL', 'NIL']\n",
            "1073 ['DEF', 'PER', 'NOW', 'EXT', 'DIS', 'DEG', 'CON', 'NIL'] ['DEF', 'PER', 'NOW', 'EXT', 'DIS', 'IST', 'CON', 'NIL']\n",
            "1077 ['DEF', 'PER', 'EPS', 'REL', 'DIS', 'EXT', 'CON', 'NIL'] ['DEF', 'PER', 'EPS', 'REL', 'DIS', 'IST', 'CON', 'NIL']\n",
            "1082 ['AND', 'CON', 'EXS', 'DIS', 'CON', 'AND', 'EXG', 'DIS', 'CON', 'NIL'] ['AND', 'CON', 'EQU', 'DIS', 'CON', 'AND', 'EXG', 'DIS', 'CON', 'NIL']\n",
            "1087 ['DEF', 'PER', 'NOW', 'INT', 'DEG', 'DIS', 'NOW', 'NOT', 'PRO', 'QUE'] ['DEF', 'PER', 'NOW', 'INT', 'IST', 'NIL', 'NOW', 'NOT', 'PRO', 'QUE']\n",
            "1089 ['PRO', 'ENS', 'REL', 'DIS', 'CON', 'NIL'] ['PRO', 'ENS', 'REL', 'DIS', 'CON', 'EMP']\n",
            "1095 ['DEF', 'ORG', 'NIL'] ['DIS', 'CON', 'NIL']\n",
            "1102 ['PRX', 'CON', 'NOW', 'QUC', 'UOM', 'MOR', 'NIL'] ['PRX', 'CON', 'NOW', 'DIS', 'CON', 'MOR', 'NIL']\n",
            "1104 ['DEF', 'CON', 'EPS', 'DIS', 'LES', 'QUC', 'UOM', 'NIL'] ['DEF', 'CON', 'EPS', 'DIS', 'MOR', 'QUC', 'UOM', 'NIL']\n",
            "1106 ['PRO', 'ENS', 'REL', 'PRO', 'REL', 'DEF', 'GPE', 'NIL'] ['PRO', 'EPS', 'REL', 'PRO', 'REL', 'DEF', 'GPE', 'NIL']\n",
            "1115 ['DEF', 'PER', 'ENS', 'ROL', 'NIL'] ['DEF', 'PER', 'NOW', 'IST', 'NIL']\n",
            "1116 ['DEF', 'CON', 'PST', 'IST', 'NIL'] ['DEF', 'CON', 'PST', 'COL', 'NIL']\n",
            "1126 ['NOW', 'PRO', 'IST', 'REL', 'DEF', 'PER', 'QUE'] ['NOW', 'PRO', 'ENS', 'REL', 'DEF', 'PER', 'QUE']\n",
            "1127 ['DEF', 'PER', 'PST', 'DEF', 'CON', 'IST', 'NIL'] ['DEF', 'PER', 'PST', 'DEF', 'CON', 'EXT', 'NIL']\n",
            "1136 ['PRO', 'EPS', 'DEF', 'CON', 'NIL', 'SUB', 'HAS', 'ROL', 'PRO', 'EPS', 'NIL'] ['PRO', 'EPS', 'DEF', 'CON', 'NIL', 'SUB', 'HAS', 'ROL', 'PRO', 'ENS', 'NIL']\n",
            "1163 ['DEF', 'PER', 'PST', 'EXG', 'NIL'] ['DEF', 'PER', 'PST', 'IST', 'NIL']\n",
            "1165 ['DEF', 'PER', 'NOW', 'GPO', 'NIL'] ['DEF', 'PER', 'NOW', 'IST', 'NIL']\n",
            "1173 ['PRO', 'EFS', 'DEF', 'CON', 'NIL'] ['PRO', 'EPS', 'DEF', 'CON', 'NIL']\n",
            "1176 ['DEF', 'GPE', 'EPS', 'DIS', 'CON', 'REL', 'DEF', 'GPE', 'REL', 'DEF', 'MOY', 'EQU', 'YOC', 'NIL'] ['DEF', 'GPE', 'EPS', 'DEF', 'CON', 'REL', 'DEF', 'GPE', 'REL', 'DEF', 'MOY', 'NIL', 'YOC', 'NIL']\n",
            "1185 ['PRO', 'EPS', 'DIS', 'CON', 'CON', 'NIL'] ['PRO', 'EPS', 'DIS', 'IST', 'CON', 'NIL']\n",
            "1197 ['DIS', 'CON', 'NOW', 'EXG', 'DIS', 'CON'] ['AND', 'CON', 'NOW', 'EXG', 'DIS', 'CON']\n",
            "1198 ['AND', 'ENS', 'DIS', 'CON', 'NIL'] ['AND', 'EXS', 'DIS', 'CON', 'NIL']\n",
            "1199 ['AND', 'CON', 'ENS', 'DEF', 'GPE', 'NIL'] ['AND', 'CON', 'EXS', 'DEF', 'GPE', 'NIL']\n",
            "1201 ['EMP', 'DIS', 'IST', 'CON', 'NIL'] ['QUE', 'DIS', 'IST', 'CON', 'NIL']\n",
            "1213 ['DIS', 'PRO', 'EPS', 'NIL'] ['DIS', 'PRO', 'EXS', 'NIL']\n",
            "1214 ['DEF', 'ART', 'PST', 'EXS', 'REL', 'DEF', 'PER', 'NIL'] ['DEF', 'ART', 'NOW', 'EXS', 'REL', 'DEF', 'PER', 'NIL']\n",
            "1217 ['PRO', 'EPS', 'DIS', 'CON', 'REL', 'PRO', 'NIL'] ['PRO', 'ENS', 'DIS', 'CON', 'REL', 'PRO', 'NIL']\n",
            "1222 ['NOW', 'DEF', 'PER', 'IST', 'QUE'] ['NOW', 'DEF', 'PER', 'EXT', 'QUE']\n",
            "1228 ['DEF', 'ART', 'NOW', 'EXT', 'REL', 'DEF', 'NTH', 'NIL'] ['DIS', 'CON', 'NOW', 'EXT', 'REL', 'DEF', 'NTH', 'NIL']\n",
            "1242 ['DEF', 'CON', 'POS', 'NOW', 'IST', 'NIL'] ['DEF', 'CON', 'POS', 'NOW', 'EXS', 'NIL']\n",
            "1243 ['DEF', 'PER', 'NOW', 'IST', 'NIL'] ['DEF', 'PER', 'NOW', 'EXS', 'NIL']\n",
            "1247 ['DEF', 'PER', 'ENS', 'DIS', 'DEG', 'CON', 'NIL'] ['DEF', 'PER', 'ENS', 'DIS', 'IST', 'CON', 'NIL']\n",
            "1250 ['DEF', 'CON', 'FUT', 'REL', 'DEF', 'CLO', 'IST', 'NIL', 'NIL'] ['DEF', 'CON', 'FUT', 'REL', 'DEF', 'CLO', 'EXS', 'NIL', 'NIL']\n",
            "1295 ['AND', 'CON', 'NIL', 'DIS', 'APX', 'QUC', 'UOM', 'DEG', 'NIL'] ['AND', 'CON', 'NOW', 'DIS', 'APX', 'QUC', 'UOM', 'DEG', 'NIL']\n",
            "1296 ['DIS', 'TOP', 'QUC', 'ROL', 'PST', 'EXT', 'DEF', 'CON', 'NIL'] ['DIS', 'APX', 'QUC', 'ROL', 'NOW', 'EXT', 'DEF', 'CON', 'NIL']\n",
            "1297 ['DEF', 'GPE', 'EPS', 'DIS', 'QUC', 'CON', 'REL', 'DEF', 'GPE', 'NIL'] ['DEF', 'ORG', 'EPS', 'DIS', 'QUC', 'CON', 'REL', 'DEF', 'GPE', 'NIL']\n",
            "1300 ['DEF', 'PER', 'NOW', 'EXG', 'NIL'] ['DEF', 'PER', 'FUT', 'EXS', 'NIL']\n",
            "1307 ['PRO', 'NOW', 'DEG', 'DIS', 'QUC', 'NIL'] ['PRO', 'NOW', 'IST', 'DEF', 'QUC', 'NIL']\n",
            "1323 ['DEF', 'PER', 'PST', 'INT', 'IST', 'REL', 'DEF', 'PER', 'AND', 'NIL', 'EPS', 'PRO', 'DIS', 'DEG', 'CON', 'NIL', 'EXS', 'PRO', 'NIL'] ['DEF', 'PER', 'PST', 'INT', 'IST', 'REL', 'DEF', 'PER', 'COO', 'NIL', 'EPS', 'PRO', 'DIS', 'DEG', 'CON', 'NIL', 'EXS', 'PRO', 'NIL']\n",
            "1326 ['PST', 'EXG', 'NIL'] ['NOW', 'EXG', 'NIL']\n",
            "1328 ['PRO', 'EPS', 'DEF', 'PER', 'DEF', 'CON', 'REL', 'DEF', 'CON', 'NIL'] ['PRO', 'EPS', 'DEF', 'PER', 'DEF', 'ROL', 'REL', 'DEF', 'CON', 'NIL']\n",
            "1338 ['DEF', 'CON', 'EPS', 'PST', 'DIS', 'QUC', 'UOM', 'DIS', 'NIL', 'NIL'] ['DEF', 'CON', 'EPS', 'PST', 'DIS', 'QUC', 'UOM', 'AND', 'REL', 'NIL']\n",
            "1360 ['DEF', 'CON', 'REL', 'DEF', 'CLO', 'NOW', 'EXG', 'NIL'] ['DEF', 'CON', 'REL', 'DIS', 'CLO', 'NOW', 'EXG', 'NIL']\n",
            "1369 ['PRO', 'EPS', 'DIS', 'CON', 'IST', 'NIL'] ['NOW', 'EXT', 'DIS', 'CON', 'IST', 'NIL']\n",
            "1372 ['DEF', 'NTH', 'ENS', 'ALT', 'DEF', 'CON', 'NIL'] ['DEF', 'NTH', 'NOW', 'ALT', 'DEF', 'CON', 'NIL']\n",
            "1373 ['HAS', 'CON', 'NOW', 'NOT', 'INT', 'DEG', 'NIL'] ['HAS', 'CON', 'NOW', 'NOT', 'INT', 'IST', 'NIL']\n",
            "1374 ['DIS', 'QUC', 'UOM', 'ENS', 'DIS', 'QUC', 'UOM', 'NIL'] ['DIS', 'QUC', 'UOM', 'EXS', 'DIS', 'QUC', 'UOM', 'NIL']\n",
            "1382 ['DEF', 'CON', 'NOW', 'INT', 'IST'] ['DEF', 'CON', 'NOW', 'IST', 'IST']\n",
            "1386 ['PRO', 'ENS', 'DIS', 'ROL', 'NIL'] ['PRO', 'ENS', 'DIS', 'CON', 'NIL']\n",
            "1405 ['QUE', 'CON', 'ENS', 'DEF', 'PER', 'QUE'] ['HAS', 'CON', 'ENS', 'DEF', 'PER', 'QUE']\n",
            "1411 ['HAS', 'CON', 'ENS', 'NOT', 'LIT', 'NIL'] ['HAS', 'CON', 'ENS', 'NOT', 'CON', 'NIL']\n",
            "1413 ['AND', 'CON', 'ENS', 'DIS', 'CON', 'NIL'] ['AND', 'CON', 'EXS', 'DIS', 'CON', 'NIL']\n",
            "1416 ['PRO', 'GRP', 'PRO', 'NOW', 'AND', 'INT', 'IST', 'NIL'] ['PRO', 'GRP', 'PRO', 'NOW', 'AND', 'IST', 'IST', 'NIL']\n",
            "1436 ['REL', 'QUE', 'CON', 'ENS', 'DEF', 'NTH', 'CON', 'QUE'] ['REL', 'QUE', 'CON', 'ENS', 'DEF', 'GEO', 'CON', 'QUE']\n",
            "1440 ['DEF', 'NTH', 'ENS', 'DIS', 'IST', 'CON', 'NIL'] ['DEF', 'NTH', 'EQU', 'DIS', 'CON', 'CON', 'NIL']\n",
            "1450 ['DEF', 'PER', 'EPS', 'REL', 'QUC', 'DIS', 'UOM', 'NIL'] ['DEF', 'PER', 'EPS', 'REL', 'QUC', 'UOM', 'UOM', 'NIL']\n",
            "1460 ['PRO', 'EPS', 'HAS', 'CON', 'IST', 'REL', 'NIL'] ['PRO', 'EPS', 'HAS', 'CON', 'EXS', 'REL', 'NIL']\n",
            "1467 ['DIS', 'PER', 'REL', 'PER', 'NIL'] ['DEF', 'PER', 'REL', 'PER', 'NIL']\n",
            "1481 ['PRO', 'NOW', 'PRO', 'DIS', 'EXT', 'NIL'] ['PRO', 'NOW', 'PRO', 'IST', 'EXT', 'NIL']\n",
            "1484 ['PRO', 'NOW', 'PRG', 'EXG', 'NIL'] ['PRO', 'NOW', 'IST', 'EXS', 'NIL']\n",
            "1509 ['PRO', 'EPS', 'REL', 'DEF', 'DEF', 'CON', 'NIL'] ['PRO', 'EPS', 'REL', 'DEF', 'DEG', 'CON', 'NIL']\n",
            "1514 ['PRO', 'ENS', 'HAS', 'CON', 'NIL'] ['PRO', 'EPS', 'HAS', 'CON', 'NIL']\n",
            "1518 ['DEF', 'PER', 'ENS', 'HAS', 'ROL', 'SUB', 'PRO', 'POS', 'EXS', 'PRO', 'DIS', 'IST', 'CON', 'NIL'] ['DEF', 'PER', 'ENS', 'HAS', 'ROL', 'DIS', 'PRO', 'POS', 'EXS', 'PRO', 'DIS', 'IST', 'CON', 'NIL']\n",
            "1524 ['NIL', 'NOW', 'DIS', 'CLO', 'REL', 'DEF', 'CON', 'NIL'] ['PRO', 'NOW', 'DIS', 'CLO', 'REL', 'DEF', 'CON', 'NIL']\n",
            "1527 ['PRO', 'EPS', 'NIL'] ['NIL', 'EPS', 'NIL']\n",
            "1537 ['DEF', 'PER', 'ENS', 'REL', 'DEF', 'GPE', 'ORG', 'NIL'] ['DEF', 'PER', 'ENS', 'REL', 'DEF', 'GPO', 'ORG', 'NIL']\n",
            "1542 ['DEF', 'ROL', 'EPS', 'DIS', 'IST', 'ROL', 'NIL'] ['DEF', 'ROL', 'EPS', 'DIS', 'IST', 'CON', 'NIL']\n",
            "1543 ['PRO', 'ENS', 'CON', 'REL', 'HAS', 'ROL', 'NIL'] ['PRO', 'ENS', 'QUC', 'REL', 'HAS', 'ROL', 'NIL']\n",
            "1555 ['DEF', 'CON', 'NOW', 'INT', 'IST', 'NIL'] ['DEF', 'CON', 'NOW', 'INT', 'QUV', 'NIL']\n",
            "1561 ['HAS', 'CON', 'ENS', 'HAS', 'CON', 'NIL'] ['HAS', 'CON', 'EXS', 'HAS', 'CON', 'NIL']\n",
            "1562 ['DEF', 'CON', 'ENS', 'REL', 'DEF', 'CLO', 'NIL'] ['DEF', 'CON', 'EFS', 'REL', 'DEF', 'CLO', 'NIL']\n",
            "1578 ['PRO', 'ENS', 'DIS', 'IST', 'CON', 'NIL'] ['PRO', 'ENS', 'DIS', 'CON', 'CON', 'NIL']\n",
            "1587 ['HAS', 'CON', 'NOW', 'DIS', 'QUC', 'UOM', 'DEG', 'NIL'] ['HAS', 'CON', 'NOW', 'DIS', 'QUC', 'UOM', 'IST', 'NIL']\n",
            "1602 ['DEF', 'NTH', 'CON', 'PST', 'IST', 'NIL'] ['DEF', 'ART', 'CON', 'PST', 'IST', 'NIL']\n",
            "1606 ['HAS', 'CON', 'NOW', 'ALT', 'ALT', 'IST', 'NIL'] ['HAS', 'CON', 'NOW', 'ALT', 'ALT', 'EXT', 'NIL']\n",
            "1630 ['HAS', 'ROL', 'PST', 'IST', 'REL', 'DEF', 'IST', 'CON', 'NIL'] ['HAS', 'ROL', 'PST', 'EXS', 'REL', 'DEF', 'IST', 'CON', 'NIL']\n",
            "1631 ['QUE', 'ENS', 'DEF', 'ROL', 'REL', 'DEF', 'ORG', 'QUE'] ['QUE', 'ENS', 'DEF', 'ROL', 'REL', 'DEF', 'GPE', 'QUE']\n",
            "1646 ['DIS', 'INT', 'DEG', 'CON', 'EPS', 'HAS', 'CON', 'NIL'] ['DIS', 'IST', 'IST', 'CON', 'EPS', 'HAS', 'CON', 'NIL']\n",
            "1650 ['DEF', 'CON', 'REL', 'DEF', 'GPE', 'ENS', 'QUC', 'CON', 'CON', 'REL', 'DEF', 'GPE', 'NIL'] ['DEF', 'CON', 'REL', 'DEF', 'GPE', 'ENS', 'QUC', 'UOM', 'PRO', 'REL', 'DEF', 'GPE', 'NIL']\n",
            "1654 ['DEF', 'PER', 'NOW', 'DIS', 'CON', 'REL', 'DIS', 'CON', 'PRG', 'EXS', 'NIL'] ['DEF', 'PER', 'ENS', 'DIS', 'ROL', 'REL', 'DIS', 'CON', 'PRG', 'EXS', 'NIL']\n",
            "1667 ['QUC', 'UOM', 'NIL', 'IST', 'REL', 'DIS', 'QUC', 'UOM', 'NIL'] ['QUC', 'UOM', 'NOW', 'IST', 'REL', 'DIS', 'QUC', 'UOM', 'NIL']\n"
          ]
        }
      ]
    },
    {
      "cell_type": "code",
      "source": [
        "x_test[417:418]"
      ],
      "metadata": {
        "colab": {
          "base_uri": "https://localhost:8080/"
        },
        "id": "mt8cxC64hFSs",
        "outputId": "5aebcfa9-60e7-4e4d-9e29-449b9de9b13b"
      },
      "execution_count": 32,
      "outputs": [
        {
          "output_type": "execute_result",
          "data": {
            "text/plain": [
              "[['Plots', 'gingen', 'de', 'lichten', 'uit', '.']]"
            ]
          },
          "metadata": {},
          "execution_count": 32
        }
      ]
    },
    {
      "cell_type": "markdown",
      "source": [
        "# Example tokenize output"
      ],
      "metadata": {
        "id": "ItPSsf2PomJ9"
      }
    },
    {
      "cell_type": "code",
      "source": [
        "'''\n",
        "Example of how the BERT model tokenizes the sentence, and the label alignment process.\n",
        "\n",
        "Example sentence:   'ø', 'Taninna', 'is', 'paling', '.\n",
        "Encoded labels:      11,    48,      44,     22,    42\n",
        "Encoded Text:      '[CLS]', 'ø', 'tan', '##inn', '##a', 'is', 'pali', '##ng', '.', '[SEP]'\n",
        "Label alignment:    -100,    11,   48,   -100,   -100,   44,    22,    -100,  42,   -100\n",
        "'''"
      ],
      "metadata": {
        "id": "P1T7Zx-0V3dD"
      },
      "execution_count": null,
      "outputs": []
    },
    {
      "cell_type": "code",
      "source": [
        "test_text = df_test['token'].tolist()\n",
        "test_label = df_test['enc_semtag'].tolist()\n",
        "test_label_ori = df_test['semtag'].tolist()\n",
        "\n",
        "test_text_adj = []\n",
        "for test_t in test_text:\n",
        "    t = ' '.join(test_t)\n",
        "    t = t.split()\n",
        "    test_text_adj.append(t)\n",
        "\n",
        "example_tok = tokenize_and_align('bert-base-uncased', test_text_adj, test_label)"
      ],
      "metadata": {
        "id": "ZDSuTPtLopio"
      },
      "execution_count": null,
      "outputs": []
    },
    {
      "cell_type": "code",
      "source": [
        "num = 0\n",
        "for n, label in enumerate(test_label):\n",
        "  num += 1\n",
        "  if len(example_tok.word_ids(n)) != (len(label) + 2):\n",
        "    print(num, example_tok.word_ids(n), label)"
      ],
      "metadata": {
        "id": "dtKxlTXw_xgA"
      },
      "execution_count": null,
      "outputs": []
    },
    {
      "cell_type": "code",
      "source": [
        "for n1, l1 in zip(test_text[52:53], test_label[52:53]):\n",
        "  print(n1)\n",
        "  print(l1)\n",
        "\n",
        "num10 = 0\n",
        "for n, label in enumerate(test_label):\n",
        "  num10 += 1\n",
        "  print(num10, example_tok.tokens(n))\n",
        "  \n",
        "example_tok['labels'][52:53]"
      ],
      "metadata": {
        "id": "WuNrsImD4Yl_"
      },
      "execution_count": null,
      "outputs": []
    }
  ],
  "metadata": {
    "accelerator": "GPU",
    "colab": {
      "provenance": []
    },
    "gpuClass": "standard",
    "kernelspec": {
      "display_name": "Python 3 (ipykernel)",
      "language": "python",
      "name": "python3"
    },
    "language_info": {
      "codemirror_mode": {
        "name": "ipython",
        "version": 3
      },
      "file_extension": ".py",
      "mimetype": "text/x-python",
      "name": "python",
      "nbconvert_exporter": "python",
      "pygments_lexer": "ipython3",
      "version": "3.10.7"
    }
  },
  "nbformat": 4,
  "nbformat_minor": 0
}